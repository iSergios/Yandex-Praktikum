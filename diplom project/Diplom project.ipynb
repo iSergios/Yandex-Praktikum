{
 "cells": [
  {
   "cell_type": "markdown",
   "id": "7c3fe82e",
   "metadata": {},
   "source": [
    "# Телеком — задача проекта\n",
    "\n",
    "Оператор связи «Ниединогоразрыва.ком» хочет научиться прогнозировать отток клиентов. Если выяснится, что пользователь планирует уйти, ему будут предложены промокоды и специальные условия. Команда оператора собрала персональные данные о некоторых клиентах, информацию об их тарифах и договорах.\n",
    "\n",
    "### Описание услуг\n",
    "\n",
    "Оператор предоставляет два основных типа услуг: \n",
    "\n",
    "1. Стационарную телефонную связь. Возможно подключение телефонного аппарата к нескольким линиям одновременно.\n",
    "2. Интернет. Подключение может быть двух типов: через телефонную линию (DSL*,* от англ. *digital subscriber line*, «цифровая абонентская линия») или оптоволоконный кабель (*Fiber optic*).  \n",
    "\n",
    "Также доступны такие услуги:\n",
    "\n",
    "- Интернет-безопасность: антивирус (*DeviceProtection*) и блокировка небезопасных сайтов (*OnlineSecurity*);\n",
    "- Выделенная линия технической поддержки (*TechSupport*);\n",
    "- Облачное хранилище файлов для резервного копирования данных (*OnlineBackup*);\n",
    "- Стриминговое телевидение (*StreamingTV*) и каталог фильмов (*StreamingMovies*).\n",
    "\n",
    "За услуги клиенты могут платить каждый месяц или заключить договор на 1–2 года. Доступны различные способы расчёта и возможность получения электронного чека.\n",
    "\n",
    "### Описание данных\n",
    "\n",
    "Данные состоят из файлов, полученных из разных источников:\n",
    "\n",
    "- `contract_new.csv` — информация о договоре;\n",
    "- `personal_new.csv` — персональные данные клиента;\n",
    "- `internet_new.csv` — информация об интернет-услугах;\n",
    "- `phone_new.csv` — информация об услугах телефонии.\n",
    "\n",
    "### Описание полей данных\n",
    "\n",
    "- BeginDate – дата начала пользования услугами.\n",
    "- EndDate – дата окончания пользования услугами.\n",
    "- Type – тип оплаты: ежемесячный, годовой и тд.\n",
    "- PaperlessBilling – электронный платежный документ.\n",
    "- PaymentMethod – способ оплаты.\n",
    "- MonthlyCharges – ежемесячные траты на услуги.\n",
    "- TotalCharges – всего потрачено денег на услуги.\n",
    "- Dependents – наличие иждивенцев.\n",
    "- Senior Citizen – наличие пенсионного статуса по возрасту.\n",
    "- Partner – наличие супруга(и).\n",
    "- MultipleLines – наличие возможности ведения параллельных линий во время звонка."
   ]
  },
  {
   "cell_type": "markdown",
   "id": "3c6b3983",
   "metadata": {},
   "source": [
    "# проект работы:\n",
    "- **Исследование я разделю на 3 глобальных этапа которые будут включать в себя следующие этапы:**\n",
    "1.\tПредобработка данных (ознакомлюсь в датафреймами, посмотрю на типы данных при необходимости изменю их, посмотрю на наличие пропусков\n",
    "2.\tИсследовательский анализ данных (EDA) –более подробно изучу данные, посмотрю на закономерности, построю различные графики, более подробно определю имеются ли неявные пропуски, скорее всего соединю 4 дф в 1 дф,  далее будет видно в ходе исследования есть ли в этому необходимость, займусь фичинг инжинирингом.\n",
    "3.\tОбучение модели и определение лучшей модели машинного обучения\n",
    "(разделю дф на выборки тестовая выборка будет равна 0,25), при необходимости произведу кодирование признаков, подберу гиперпараметры для моделей, проведу выбор модели с использованием кроссвалидации, итоговую модель проверю на тестовой выборке \n"
   ]
  },
  {
   "cell_type": "code",
   "execution_count": 2,
   "id": "b913845c",
   "metadata": {},
   "outputs": [],
   "source": [
    "#установлю необходимые библиотеки\n",
    "!pip install phik\n",
    "!pip install scikit-learn==1.1.3"
   ]
  },
  {
   "cell_type": "code",
   "execution_count": 1,
   "id": "23352aef",
   "metadata": {},
   "outputs": [],
   "source": [
    "import numpy as np\n",
    "import pandas as pd\n",
    "import seaborn as sns\n",
    "import matplotlib.pyplot as plt\n",
    "from tqdm.notebook import tqdm\n",
    "\n",
    "\n",
    "\n",
    "from sklearn.model_selection import train_test_split, cross_val_score, GridSearchCV\n",
    "from sklearn.linear_model import LogisticRegression, SGDClassifier\n",
    "from sklearn.tree import DecisionTreeClassifier\n",
    "from sklearn.metrics import f1_score, precision_score, recall_score, accuracy_score, roc_auc_score, roc_curve\n",
    "from sklearn.utils import shuffle\n",
    "from sklearn.metrics import confusion_matrix\n",
    "from sklearn.metrics import classification_report\n",
    "\n",
    "\n",
    "from catboost import CatBoostClassifier\n",
    "import lightgbm as lgbm\n",
    "from sklearn.model_selection import train_test_split, GridSearchCV\n",
    "import time\n",
    "from sklearn.preprocessing import StandardScaler\n",
    "import itertools\n",
    "import phik\n",
    "from phik import resources, report\n",
    "from sklearn.preprocessing import (\n",
    "    OneHotEncoder,\n",
    "    OrdinalEncoder,\n",
    "    StandardScaler\n",
    ")\n"
   ]
  },
  {
   "cell_type": "code",
   "execution_count": 2,
   "id": "d41bbd57",
   "metadata": {},
   "outputs": [],
   "source": [
    "try:\n",
    "    data_contract = pd.read_csv('C:/Users/Sergio/Desktop/Diplom_project/contract_new.csv')\n",
    "except:\n",
    "    data_contract = pd.read_csv('/datasets/contract_new.csv')\n",
    "try:\n",
    "    data_internet = pd.read_csv('C:/Users/Sergio/Desktop/Diplom_project/internet_new.csv')\n",
    "except:\n",
    "    data_internet = pd.read_csv('/datasets/internet_new.csv')\n",
    "try:\n",
    "    data_personal = pd.read_csv('C:/Users/Sergio/Desktop/Diplom_project/personal_new.csv')\n",
    "except:\n",
    "    data_personal = pd.read_csv('/datasets/personal_new.csv') \n",
    "try:\n",
    "    data_phone = pd.read_csv('C:/Users/Sergio/Desktop/Diplom_project/phone_new.csv')\n",
    "except: \n",
    "    data_phone = pd.read_csv('/datasets/phone_new.csv')"
   ]
  },
  {
   "cell_type": "code",
   "execution_count": 3,
   "id": "a16c6ef9",
   "metadata": {},
   "outputs": [
    {
     "name": "stdout",
     "output_type": "stream",
     "text": [
      "<class 'pandas.core.frame.DataFrame'>\n",
      "RangeIndex: 7043 entries, 0 to 7042\n",
      "Data columns (total 8 columns):\n",
      " #   Column            Non-Null Count  Dtype  \n",
      "---  ------            --------------  -----  \n",
      " 0   customerID        7043 non-null   object \n",
      " 1   BeginDate         7043 non-null   object \n",
      " 2   EndDate           7043 non-null   object \n",
      " 3   Type              7043 non-null   object \n",
      " 4   PaperlessBilling  7043 non-null   object \n",
      " 5   PaymentMethod     7043 non-null   object \n",
      " 6   MonthlyCharges    7043 non-null   float64\n",
      " 7   TotalCharges      7043 non-null   object \n",
      "dtypes: float64(1), object(7)\n",
      "memory usage: 440.3+ KB\n"
     ]
    }
   ],
   "source": [
    "data_contract.info()"
   ]
  },
  {
   "cell_type": "code",
   "execution_count": 4,
   "id": "8d1a71fd",
   "metadata": {},
   "outputs": [
    {
     "data": {
      "text/html": [
       "<div>\n",
       "<style scoped>\n",
       "    .dataframe tbody tr th:only-of-type {\n",
       "        vertical-align: middle;\n",
       "    }\n",
       "\n",
       "    .dataframe tbody tr th {\n",
       "        vertical-align: top;\n",
       "    }\n",
       "\n",
       "    .dataframe thead th {\n",
       "        text-align: right;\n",
       "    }\n",
       "</style>\n",
       "<table border=\"1\" class=\"dataframe\">\n",
       "  <thead>\n",
       "    <tr style=\"text-align: right;\">\n",
       "      <th></th>\n",
       "      <th>customerID</th>\n",
       "      <th>BeginDate</th>\n",
       "      <th>EndDate</th>\n",
       "      <th>Type</th>\n",
       "      <th>PaperlessBilling</th>\n",
       "      <th>PaymentMethod</th>\n",
       "      <th>MonthlyCharges</th>\n",
       "      <th>TotalCharges</th>\n",
       "    </tr>\n",
       "  </thead>\n",
       "  <tbody>\n",
       "    <tr>\n",
       "      <th>0</th>\n",
       "      <td>7590-VHVEG</td>\n",
       "      <td>2020-01-01</td>\n",
       "      <td>No</td>\n",
       "      <td>Month-to-month</td>\n",
       "      <td>Yes</td>\n",
       "      <td>Electronic check</td>\n",
       "      <td>29.85</td>\n",
       "      <td>31.04</td>\n",
       "    </tr>\n",
       "    <tr>\n",
       "      <th>1</th>\n",
       "      <td>5575-GNVDE</td>\n",
       "      <td>2017-04-01</td>\n",
       "      <td>No</td>\n",
       "      <td>One year</td>\n",
       "      <td>No</td>\n",
       "      <td>Mailed check</td>\n",
       "      <td>56.95</td>\n",
       "      <td>2071.84</td>\n",
       "    </tr>\n",
       "    <tr>\n",
       "      <th>2</th>\n",
       "      <td>3668-QPYBK</td>\n",
       "      <td>2019-10-01</td>\n",
       "      <td>No</td>\n",
       "      <td>Month-to-month</td>\n",
       "      <td>Yes</td>\n",
       "      <td>Mailed check</td>\n",
       "      <td>53.85</td>\n",
       "      <td>226.17</td>\n",
       "    </tr>\n",
       "    <tr>\n",
       "      <th>3</th>\n",
       "      <td>7795-CFOCW</td>\n",
       "      <td>2016-05-01</td>\n",
       "      <td>No</td>\n",
       "      <td>One year</td>\n",
       "      <td>No</td>\n",
       "      <td>Bank transfer (automatic)</td>\n",
       "      <td>42.30</td>\n",
       "      <td>1960.6</td>\n",
       "    </tr>\n",
       "    <tr>\n",
       "      <th>4</th>\n",
       "      <td>9237-HQITU</td>\n",
       "      <td>2019-09-01</td>\n",
       "      <td>No</td>\n",
       "      <td>Month-to-month</td>\n",
       "      <td>Yes</td>\n",
       "      <td>Electronic check</td>\n",
       "      <td>70.70</td>\n",
       "      <td>353.5</td>\n",
       "    </tr>\n",
       "  </tbody>\n",
       "</table>\n",
       "</div>"
      ],
      "text/plain": [
       "   customerID   BeginDate EndDate            Type PaperlessBilling  \\\n",
       "0  7590-VHVEG  2020-01-01      No  Month-to-month              Yes   \n",
       "1  5575-GNVDE  2017-04-01      No        One year               No   \n",
       "2  3668-QPYBK  2019-10-01      No  Month-to-month              Yes   \n",
       "3  7795-CFOCW  2016-05-01      No        One year               No   \n",
       "4  9237-HQITU  2019-09-01      No  Month-to-month              Yes   \n",
       "\n",
       "               PaymentMethod  MonthlyCharges TotalCharges  \n",
       "0           Electronic check           29.85        31.04  \n",
       "1               Mailed check           56.95      2071.84  \n",
       "2               Mailed check           53.85       226.17  \n",
       "3  Bank transfer (automatic)           42.30       1960.6  \n",
       "4           Electronic check           70.70        353.5  "
      ]
     },
     "execution_count": 4,
     "metadata": {},
     "output_type": "execute_result"
    }
   ],
   "source": [
    "data_contract.head()"
   ]
  },
  {
   "cell_type": "code",
   "execution_count": 5,
   "id": "ebff9be9",
   "metadata": {},
   "outputs": [
    {
     "name": "stdout",
     "output_type": "stream",
     "text": [
      "<class 'pandas.core.frame.DataFrame'>\n",
      "RangeIndex: 5517 entries, 0 to 5516\n",
      "Data columns (total 8 columns):\n",
      " #   Column            Non-Null Count  Dtype \n",
      "---  ------            --------------  ----- \n",
      " 0   customerID        5517 non-null   object\n",
      " 1   InternetService   5517 non-null   object\n",
      " 2   OnlineSecurity    5517 non-null   object\n",
      " 3   OnlineBackup      5517 non-null   object\n",
      " 4   DeviceProtection  5517 non-null   object\n",
      " 5   TechSupport       5517 non-null   object\n",
      " 6   StreamingTV       5517 non-null   object\n",
      " 7   StreamingMovies   5517 non-null   object\n",
      "dtypes: object(8)\n",
      "memory usage: 344.9+ KB\n"
     ]
    }
   ],
   "source": [
    "data_internet.info()"
   ]
  },
  {
   "cell_type": "code",
   "execution_count": 6,
   "id": "7ae81a7c",
   "metadata": {},
   "outputs": [
    {
     "data": {
      "text/html": [
       "<div>\n",
       "<style scoped>\n",
       "    .dataframe tbody tr th:only-of-type {\n",
       "        vertical-align: middle;\n",
       "    }\n",
       "\n",
       "    .dataframe tbody tr th {\n",
       "        vertical-align: top;\n",
       "    }\n",
       "\n",
       "    .dataframe thead th {\n",
       "        text-align: right;\n",
       "    }\n",
       "</style>\n",
       "<table border=\"1\" class=\"dataframe\">\n",
       "  <thead>\n",
       "    <tr style=\"text-align: right;\">\n",
       "      <th></th>\n",
       "      <th>customerID</th>\n",
       "      <th>InternetService</th>\n",
       "      <th>OnlineSecurity</th>\n",
       "      <th>OnlineBackup</th>\n",
       "      <th>DeviceProtection</th>\n",
       "      <th>TechSupport</th>\n",
       "      <th>StreamingTV</th>\n",
       "      <th>StreamingMovies</th>\n",
       "    </tr>\n",
       "  </thead>\n",
       "  <tbody>\n",
       "    <tr>\n",
       "      <th>0</th>\n",
       "      <td>7590-VHVEG</td>\n",
       "      <td>DSL</td>\n",
       "      <td>No</td>\n",
       "      <td>Yes</td>\n",
       "      <td>No</td>\n",
       "      <td>No</td>\n",
       "      <td>No</td>\n",
       "      <td>No</td>\n",
       "    </tr>\n",
       "    <tr>\n",
       "      <th>1</th>\n",
       "      <td>5575-GNVDE</td>\n",
       "      <td>DSL</td>\n",
       "      <td>Yes</td>\n",
       "      <td>No</td>\n",
       "      <td>Yes</td>\n",
       "      <td>No</td>\n",
       "      <td>No</td>\n",
       "      <td>No</td>\n",
       "    </tr>\n",
       "    <tr>\n",
       "      <th>2</th>\n",
       "      <td>3668-QPYBK</td>\n",
       "      <td>DSL</td>\n",
       "      <td>Yes</td>\n",
       "      <td>Yes</td>\n",
       "      <td>No</td>\n",
       "      <td>No</td>\n",
       "      <td>No</td>\n",
       "      <td>No</td>\n",
       "    </tr>\n",
       "    <tr>\n",
       "      <th>3</th>\n",
       "      <td>7795-CFOCW</td>\n",
       "      <td>DSL</td>\n",
       "      <td>Yes</td>\n",
       "      <td>No</td>\n",
       "      <td>Yes</td>\n",
       "      <td>Yes</td>\n",
       "      <td>No</td>\n",
       "      <td>No</td>\n",
       "    </tr>\n",
       "    <tr>\n",
       "      <th>4</th>\n",
       "      <td>9237-HQITU</td>\n",
       "      <td>Fiber optic</td>\n",
       "      <td>No</td>\n",
       "      <td>No</td>\n",
       "      <td>No</td>\n",
       "      <td>No</td>\n",
       "      <td>No</td>\n",
       "      <td>No</td>\n",
       "    </tr>\n",
       "  </tbody>\n",
       "</table>\n",
       "</div>"
      ],
      "text/plain": [
       "   customerID InternetService OnlineSecurity OnlineBackup DeviceProtection  \\\n",
       "0  7590-VHVEG             DSL             No          Yes               No   \n",
       "1  5575-GNVDE             DSL            Yes           No              Yes   \n",
       "2  3668-QPYBK             DSL            Yes          Yes               No   \n",
       "3  7795-CFOCW             DSL            Yes           No              Yes   \n",
       "4  9237-HQITU     Fiber optic             No           No               No   \n",
       "\n",
       "  TechSupport StreamingTV StreamingMovies  \n",
       "0          No          No              No  \n",
       "1          No          No              No  \n",
       "2          No          No              No  \n",
       "3         Yes          No              No  \n",
       "4          No          No              No  "
      ]
     },
     "execution_count": 6,
     "metadata": {},
     "output_type": "execute_result"
    }
   ],
   "source": [
    "data_internet.head()"
   ]
  },
  {
   "cell_type": "code",
   "execution_count": 7,
   "id": "3dd018c3",
   "metadata": {},
   "outputs": [
    {
     "name": "stdout",
     "output_type": "stream",
     "text": [
      "<class 'pandas.core.frame.DataFrame'>\n",
      "RangeIndex: 7043 entries, 0 to 7042\n",
      "Data columns (total 5 columns):\n",
      " #   Column         Non-Null Count  Dtype \n",
      "---  ------         --------------  ----- \n",
      " 0   customerID     7043 non-null   object\n",
      " 1   gender         7043 non-null   object\n",
      " 2   SeniorCitizen  7043 non-null   int64 \n",
      " 3   Partner        7043 non-null   object\n",
      " 4   Dependents     7043 non-null   object\n",
      "dtypes: int64(1), object(4)\n",
      "memory usage: 275.2+ KB\n"
     ]
    }
   ],
   "source": [
    "data_personal.info()"
   ]
  },
  {
   "cell_type": "code",
   "execution_count": 8,
   "id": "a4021460",
   "metadata": {},
   "outputs": [
    {
     "data": {
      "text/html": [
       "<div>\n",
       "<style scoped>\n",
       "    .dataframe tbody tr th:only-of-type {\n",
       "        vertical-align: middle;\n",
       "    }\n",
       "\n",
       "    .dataframe tbody tr th {\n",
       "        vertical-align: top;\n",
       "    }\n",
       "\n",
       "    .dataframe thead th {\n",
       "        text-align: right;\n",
       "    }\n",
       "</style>\n",
       "<table border=\"1\" class=\"dataframe\">\n",
       "  <thead>\n",
       "    <tr style=\"text-align: right;\">\n",
       "      <th></th>\n",
       "      <th>customerID</th>\n",
       "      <th>gender</th>\n",
       "      <th>SeniorCitizen</th>\n",
       "      <th>Partner</th>\n",
       "      <th>Dependents</th>\n",
       "    </tr>\n",
       "  </thead>\n",
       "  <tbody>\n",
       "    <tr>\n",
       "      <th>0</th>\n",
       "      <td>7590-VHVEG</td>\n",
       "      <td>Female</td>\n",
       "      <td>0</td>\n",
       "      <td>Yes</td>\n",
       "      <td>No</td>\n",
       "    </tr>\n",
       "    <tr>\n",
       "      <th>1</th>\n",
       "      <td>5575-GNVDE</td>\n",
       "      <td>Male</td>\n",
       "      <td>0</td>\n",
       "      <td>No</td>\n",
       "      <td>No</td>\n",
       "    </tr>\n",
       "    <tr>\n",
       "      <th>2</th>\n",
       "      <td>3668-QPYBK</td>\n",
       "      <td>Male</td>\n",
       "      <td>0</td>\n",
       "      <td>No</td>\n",
       "      <td>No</td>\n",
       "    </tr>\n",
       "    <tr>\n",
       "      <th>3</th>\n",
       "      <td>7795-CFOCW</td>\n",
       "      <td>Male</td>\n",
       "      <td>0</td>\n",
       "      <td>No</td>\n",
       "      <td>No</td>\n",
       "    </tr>\n",
       "    <tr>\n",
       "      <th>4</th>\n",
       "      <td>9237-HQITU</td>\n",
       "      <td>Female</td>\n",
       "      <td>0</td>\n",
       "      <td>No</td>\n",
       "      <td>No</td>\n",
       "    </tr>\n",
       "  </tbody>\n",
       "</table>\n",
       "</div>"
      ],
      "text/plain": [
       "   customerID  gender  SeniorCitizen Partner Dependents\n",
       "0  7590-VHVEG  Female              0     Yes         No\n",
       "1  5575-GNVDE    Male              0      No         No\n",
       "2  3668-QPYBK    Male              0      No         No\n",
       "3  7795-CFOCW    Male              0      No         No\n",
       "4  9237-HQITU  Female              0      No         No"
      ]
     },
     "execution_count": 8,
     "metadata": {},
     "output_type": "execute_result"
    }
   ],
   "source": [
    "data_personal.head()"
   ]
  },
  {
   "cell_type": "code",
   "execution_count": 9,
   "id": "77e70c23",
   "metadata": {},
   "outputs": [
    {
     "name": "stdout",
     "output_type": "stream",
     "text": [
      "<class 'pandas.core.frame.DataFrame'>\n",
      "RangeIndex: 6361 entries, 0 to 6360\n",
      "Data columns (total 2 columns):\n",
      " #   Column         Non-Null Count  Dtype \n",
      "---  ------         --------------  ----- \n",
      " 0   customerID     6361 non-null   object\n",
      " 1   MultipleLines  6361 non-null   object\n",
      "dtypes: object(2)\n",
      "memory usage: 99.5+ KB\n"
     ]
    }
   ],
   "source": [
    "data_phone.info()"
   ]
  },
  {
   "cell_type": "code",
   "execution_count": 10,
   "id": "cef1bc30",
   "metadata": {},
   "outputs": [
    {
     "data": {
      "text/html": [
       "<div>\n",
       "<style scoped>\n",
       "    .dataframe tbody tr th:only-of-type {\n",
       "        vertical-align: middle;\n",
       "    }\n",
       "\n",
       "    .dataframe tbody tr th {\n",
       "        vertical-align: top;\n",
       "    }\n",
       "\n",
       "    .dataframe thead th {\n",
       "        text-align: right;\n",
       "    }\n",
       "</style>\n",
       "<table border=\"1\" class=\"dataframe\">\n",
       "  <thead>\n",
       "    <tr style=\"text-align: right;\">\n",
       "      <th></th>\n",
       "      <th>customerID</th>\n",
       "      <th>MultipleLines</th>\n",
       "    </tr>\n",
       "  </thead>\n",
       "  <tbody>\n",
       "    <tr>\n",
       "      <th>0</th>\n",
       "      <td>5575-GNVDE</td>\n",
       "      <td>No</td>\n",
       "    </tr>\n",
       "    <tr>\n",
       "      <th>1</th>\n",
       "      <td>3668-QPYBK</td>\n",
       "      <td>No</td>\n",
       "    </tr>\n",
       "    <tr>\n",
       "      <th>2</th>\n",
       "      <td>9237-HQITU</td>\n",
       "      <td>No</td>\n",
       "    </tr>\n",
       "    <tr>\n",
       "      <th>3</th>\n",
       "      <td>9305-CDSKC</td>\n",
       "      <td>Yes</td>\n",
       "    </tr>\n",
       "    <tr>\n",
       "      <th>4</th>\n",
       "      <td>1452-KIOVK</td>\n",
       "      <td>Yes</td>\n",
       "    </tr>\n",
       "  </tbody>\n",
       "</table>\n",
       "</div>"
      ],
      "text/plain": [
       "   customerID MultipleLines\n",
       "0  5575-GNVDE            No\n",
       "1  3668-QPYBK            No\n",
       "2  9237-HQITU            No\n",
       "3  9305-CDSKC           Yes\n",
       "4  1452-KIOVK           Yes"
      ]
     },
     "execution_count": 10,
     "metadata": {},
     "output_type": "execute_result"
    }
   ],
   "source": [
    "data_phone.head()"
   ]
  },
  {
   "cell_type": "markdown",
   "id": "d1bc9616",
   "metadata": {},
   "source": [
    "Пропусков нет"
   ]
  },
  {
   "cell_type": "code",
   "execution_count": 11,
   "id": "1896f29e",
   "metadata": {},
   "outputs": [
    {
     "data": {
      "text/plain": [
       "0"
      ]
     },
     "execution_count": 11,
     "metadata": {},
     "output_type": "execute_result"
    }
   ],
   "source": [
    "data_contract.duplicated().sum()\n",
    "#data_internet.duplicated().sum()\n",
    "#data_personal.duplicated().sum()\n",
    "#data_phone.duplicated().sum()\n"
   ]
  },
  {
   "cell_type": "markdown",
   "id": "06d52883",
   "metadata": {},
   "source": [
    "дубликатов нет"
   ]
  },
  {
   "cell_type": "markdown",
   "id": "1944ac88",
   "metadata": {},
   "source": [
    "# Проанилизировав 4 дата фрейма можно сделать следующие выводы:\n",
    "- data_contract (8 столбов в каждом 7043 значений, явных дубликатов не обнаруженно)\n",
    "- data_internet (8 столбов  в каждом 5517 значений, явных дубликатов не обнаруженно)\n",
    "- data_personal (5 столбов в каждом 7043 значений, явных дубликатов не обнаруженно)\n",
    "- data_phone (3 столба в каждом 6361 значений, явных дубликатов не обнаруженно)\n",
    "- проанализировав данные в столбе EndDate я вижу, что там находится информация с датой когда клиент перестал пользоваться услугами, следовательно данный столб можно пометить как целевой признак для  моделей.\n",
    "- **Вопросов пока у меня нет, все понятно объяснено на вебинаре** "
   ]
  },
  {
   "cell_type": "markdown",
   "id": "f078cd1f",
   "metadata": {},
   "source": [
    "# Исследовательский анализ данных (EDA)"
   ]
  },
  {
   "cell_type": "code",
   "execution_count": 12,
   "id": "00b1798f",
   "metadata": {},
   "outputs": [],
   "source": [
    "data_contract['EndDate'] = data_contract['EndDate'].replace(['No'], ['2020-02-01'])\n",
    "data_contract['TotalCharges'] = data_contract['TotalCharges'].replace([' '], 0)"
   ]
  },
  {
   "cell_type": "code",
   "execution_count": 13,
   "id": "9e8798d8",
   "metadata": {},
   "outputs": [],
   "source": [
    "data_contract['BeginDate'] = pd.to_datetime(data_contract['BeginDate'],format = '%Y-%m-%d')\n",
    "data_contract['EndDate'] = pd.to_datetime(data_contract['EndDate'],format = '%Y-%m-%d')"
   ]
  },
  {
   "cell_type": "code",
   "execution_count": 14,
   "id": "2a2cd5ce",
   "metadata": {},
   "outputs": [],
   "source": [
    "data_contract['TotalCharges'] = data_contract['TotalCharges'].astype('float')\n",
    "data_contract['TotalCharges'] = data_contract['TotalCharges'].astype('int')"
   ]
  },
  {
   "cell_type": "markdown",
   "id": "c1cbe75d",
   "metadata": {},
   "source": [
    "- Соглстано рекомендаций полученных на вебинаре поставил заглушку в столбе ['EndDate'] указав дату договоров актуальных на 1 февраля 2020.\n",
    "- Заполнил пропуски в ['TotalCharges'] 0\n",
    "- Изменил тип данных ['BeginDate'], ['EndDate'] в datetime\n",
    "- Изменил тип данных 'TotalCharges' в целочисленный тип данных"
   ]
  },
  {
   "cell_type": "code",
   "execution_count": 15,
   "id": "8c4734ce",
   "metadata": {},
   "outputs": [],
   "source": [
    "data_tel = data_contract.set_index('customerID').join(data_phone.set_index('customerID'))\n",
    "data_tel = data_tel.join(data_personal.set_index('customerID'))\n",
    "data_tel = data_tel.join(data_internet.set_index('customerID'))"
   ]
  },
  {
   "cell_type": "code",
   "execution_count": 16,
   "id": "68a4d57c",
   "metadata": {},
   "outputs": [
    {
     "data": {
      "text/html": [
       "<div>\n",
       "<style scoped>\n",
       "    .dataframe tbody tr th:only-of-type {\n",
       "        vertical-align: middle;\n",
       "    }\n",
       "\n",
       "    .dataframe tbody tr th {\n",
       "        vertical-align: top;\n",
       "    }\n",
       "\n",
       "    .dataframe thead th {\n",
       "        text-align: right;\n",
       "    }\n",
       "</style>\n",
       "<table border=\"1\" class=\"dataframe\">\n",
       "  <thead>\n",
       "    <tr style=\"text-align: right;\">\n",
       "      <th></th>\n",
       "      <th>BeginDate</th>\n",
       "      <th>EndDate</th>\n",
       "      <th>Type</th>\n",
       "      <th>PaperlessBilling</th>\n",
       "      <th>PaymentMethod</th>\n",
       "      <th>MonthlyCharges</th>\n",
       "      <th>TotalCharges</th>\n",
       "      <th>MultipleLines</th>\n",
       "      <th>gender</th>\n",
       "      <th>SeniorCitizen</th>\n",
       "      <th>Partner</th>\n",
       "      <th>Dependents</th>\n",
       "      <th>InternetService</th>\n",
       "      <th>OnlineSecurity</th>\n",
       "      <th>OnlineBackup</th>\n",
       "      <th>DeviceProtection</th>\n",
       "      <th>TechSupport</th>\n",
       "      <th>StreamingTV</th>\n",
       "      <th>StreamingMovies</th>\n",
       "    </tr>\n",
       "    <tr>\n",
       "      <th>customerID</th>\n",
       "      <th></th>\n",
       "      <th></th>\n",
       "      <th></th>\n",
       "      <th></th>\n",
       "      <th></th>\n",
       "      <th></th>\n",
       "      <th></th>\n",
       "      <th></th>\n",
       "      <th></th>\n",
       "      <th></th>\n",
       "      <th></th>\n",
       "      <th></th>\n",
       "      <th></th>\n",
       "      <th></th>\n",
       "      <th></th>\n",
       "      <th></th>\n",
       "      <th></th>\n",
       "      <th></th>\n",
       "      <th></th>\n",
       "    </tr>\n",
       "  </thead>\n",
       "  <tbody>\n",
       "    <tr>\n",
       "      <th>7590-VHVEG</th>\n",
       "      <td>2020-01-01</td>\n",
       "      <td>2020-02-01</td>\n",
       "      <td>Month-to-month</td>\n",
       "      <td>Yes</td>\n",
       "      <td>Electronic check</td>\n",
       "      <td>29.85</td>\n",
       "      <td>31</td>\n",
       "      <td>NaN</td>\n",
       "      <td>Female</td>\n",
       "      <td>0</td>\n",
       "      <td>Yes</td>\n",
       "      <td>No</td>\n",
       "      <td>DSL</td>\n",
       "      <td>No</td>\n",
       "      <td>Yes</td>\n",
       "      <td>No</td>\n",
       "      <td>No</td>\n",
       "      <td>No</td>\n",
       "      <td>No</td>\n",
       "    </tr>\n",
       "    <tr>\n",
       "      <th>5575-GNVDE</th>\n",
       "      <td>2017-04-01</td>\n",
       "      <td>2020-02-01</td>\n",
       "      <td>One year</td>\n",
       "      <td>No</td>\n",
       "      <td>Mailed check</td>\n",
       "      <td>56.95</td>\n",
       "      <td>2071</td>\n",
       "      <td>No</td>\n",
       "      <td>Male</td>\n",
       "      <td>0</td>\n",
       "      <td>No</td>\n",
       "      <td>No</td>\n",
       "      <td>DSL</td>\n",
       "      <td>Yes</td>\n",
       "      <td>No</td>\n",
       "      <td>Yes</td>\n",
       "      <td>No</td>\n",
       "      <td>No</td>\n",
       "      <td>No</td>\n",
       "    </tr>\n",
       "    <tr>\n",
       "      <th>3668-QPYBK</th>\n",
       "      <td>2019-10-01</td>\n",
       "      <td>2020-02-01</td>\n",
       "      <td>Month-to-month</td>\n",
       "      <td>Yes</td>\n",
       "      <td>Mailed check</td>\n",
       "      <td>53.85</td>\n",
       "      <td>226</td>\n",
       "      <td>No</td>\n",
       "      <td>Male</td>\n",
       "      <td>0</td>\n",
       "      <td>No</td>\n",
       "      <td>No</td>\n",
       "      <td>DSL</td>\n",
       "      <td>Yes</td>\n",
       "      <td>Yes</td>\n",
       "      <td>No</td>\n",
       "      <td>No</td>\n",
       "      <td>No</td>\n",
       "      <td>No</td>\n",
       "    </tr>\n",
       "    <tr>\n",
       "      <th>7795-CFOCW</th>\n",
       "      <td>2016-05-01</td>\n",
       "      <td>2020-02-01</td>\n",
       "      <td>One year</td>\n",
       "      <td>No</td>\n",
       "      <td>Bank transfer (automatic)</td>\n",
       "      <td>42.30</td>\n",
       "      <td>1960</td>\n",
       "      <td>NaN</td>\n",
       "      <td>Male</td>\n",
       "      <td>0</td>\n",
       "      <td>No</td>\n",
       "      <td>No</td>\n",
       "      <td>DSL</td>\n",
       "      <td>Yes</td>\n",
       "      <td>No</td>\n",
       "      <td>Yes</td>\n",
       "      <td>Yes</td>\n",
       "      <td>No</td>\n",
       "      <td>No</td>\n",
       "    </tr>\n",
       "    <tr>\n",
       "      <th>9237-HQITU</th>\n",
       "      <td>2019-09-01</td>\n",
       "      <td>2020-02-01</td>\n",
       "      <td>Month-to-month</td>\n",
       "      <td>Yes</td>\n",
       "      <td>Electronic check</td>\n",
       "      <td>70.70</td>\n",
       "      <td>353</td>\n",
       "      <td>No</td>\n",
       "      <td>Female</td>\n",
       "      <td>0</td>\n",
       "      <td>No</td>\n",
       "      <td>No</td>\n",
       "      <td>Fiber optic</td>\n",
       "      <td>No</td>\n",
       "      <td>No</td>\n",
       "      <td>No</td>\n",
       "      <td>No</td>\n",
       "      <td>No</td>\n",
       "      <td>No</td>\n",
       "    </tr>\n",
       "  </tbody>\n",
       "</table>\n",
       "</div>"
      ],
      "text/plain": [
       "            BeginDate    EndDate            Type PaperlessBilling  \\\n",
       "customerID                                                          \n",
       "7590-VHVEG 2020-01-01 2020-02-01  Month-to-month              Yes   \n",
       "5575-GNVDE 2017-04-01 2020-02-01        One year               No   \n",
       "3668-QPYBK 2019-10-01 2020-02-01  Month-to-month              Yes   \n",
       "7795-CFOCW 2016-05-01 2020-02-01        One year               No   \n",
       "9237-HQITU 2019-09-01 2020-02-01  Month-to-month              Yes   \n",
       "\n",
       "                        PaymentMethod  MonthlyCharges  TotalCharges  \\\n",
       "customerID                                                            \n",
       "7590-VHVEG           Electronic check           29.85            31   \n",
       "5575-GNVDE               Mailed check           56.95          2071   \n",
       "3668-QPYBK               Mailed check           53.85           226   \n",
       "7795-CFOCW  Bank transfer (automatic)           42.30          1960   \n",
       "9237-HQITU           Electronic check           70.70           353   \n",
       "\n",
       "           MultipleLines  gender  SeniorCitizen Partner Dependents  \\\n",
       "customerID                                                           \n",
       "7590-VHVEG           NaN  Female              0     Yes         No   \n",
       "5575-GNVDE            No    Male              0      No         No   \n",
       "3668-QPYBK            No    Male              0      No         No   \n",
       "7795-CFOCW           NaN    Male              0      No         No   \n",
       "9237-HQITU            No  Female              0      No         No   \n",
       "\n",
       "           InternetService OnlineSecurity OnlineBackup DeviceProtection  \\\n",
       "customerID                                                                \n",
       "7590-VHVEG             DSL             No          Yes               No   \n",
       "5575-GNVDE             DSL            Yes           No              Yes   \n",
       "3668-QPYBK             DSL            Yes          Yes               No   \n",
       "7795-CFOCW             DSL            Yes           No              Yes   \n",
       "9237-HQITU     Fiber optic             No           No               No   \n",
       "\n",
       "           TechSupport StreamingTV StreamingMovies  \n",
       "customerID                                          \n",
       "7590-VHVEG          No          No              No  \n",
       "5575-GNVDE          No          No              No  \n",
       "3668-QPYBK          No          No              No  \n",
       "7795-CFOCW         Yes          No              No  \n",
       "9237-HQITU          No          No              No  "
      ]
     },
     "execution_count": 16,
     "metadata": {},
     "output_type": "execute_result"
    }
   ],
   "source": [
    "data_tel.head()"
   ]
  },
  {
   "cell_type": "code",
   "execution_count": 17,
   "id": "801e2fe9",
   "metadata": {},
   "outputs": [
    {
     "name": "stdout",
     "output_type": "stream",
     "text": [
      "<class 'pandas.core.frame.DataFrame'>\n",
      "Index: 7043 entries, 7590-VHVEG to 3186-AJIEK\n",
      "Data columns (total 19 columns):\n",
      " #   Column            Non-Null Count  Dtype         \n",
      "---  ------            --------------  -----         \n",
      " 0   BeginDate         7043 non-null   datetime64[ns]\n",
      " 1   EndDate           7043 non-null   datetime64[ns]\n",
      " 2   Type              7043 non-null   object        \n",
      " 3   PaperlessBilling  7043 non-null   object        \n",
      " 4   PaymentMethod     7043 non-null   object        \n",
      " 5   MonthlyCharges    7043 non-null   float64       \n",
      " 6   TotalCharges      7043 non-null   int32         \n",
      " 7   MultipleLines     6361 non-null   object        \n",
      " 8   gender            7043 non-null   object        \n",
      " 9   SeniorCitizen     7043 non-null   int64         \n",
      " 10  Partner           7043 non-null   object        \n",
      " 11  Dependents        7043 non-null   object        \n",
      " 12  InternetService   5517 non-null   object        \n",
      " 13  OnlineSecurity    5517 non-null   object        \n",
      " 14  OnlineBackup      5517 non-null   object        \n",
      " 15  DeviceProtection  5517 non-null   object        \n",
      " 16  TechSupport       5517 non-null   object        \n",
      " 17  StreamingTV       5517 non-null   object        \n",
      " 18  StreamingMovies   5517 non-null   object        \n",
      "dtypes: datetime64[ns](2), float64(1), int32(1), int64(1), object(14)\n",
      "memory usage: 1.3+ MB\n"
     ]
    }
   ],
   "source": [
    "data_tel.info()"
   ]
  },
  {
   "cell_type": "code",
   "execution_count": 18,
   "id": "e1ed31c9",
   "metadata": {},
   "outputs": [],
   "source": [
    "for column in ('InternetService', 'OnlineSecurity', \n",
    "               'OnlineBackup', 'DeviceProtection', \n",
    "               'TechSupport', 'StreamingTV', \n",
    "               'StreamingMovies', 'MultipleLines'\n",
    "              ):\n",
    "    data_tel[column] = data_tel[column].fillna('No')"
   ]
  },
  {
   "cell_type": "markdown",
   "id": "01bab10e",
   "metadata": {},
   "source": [
    "объеденив дафа фреймы образовались пропуски в столбах, с помошью цикла избавился от пропусков"
   ]
  },
  {
   "cell_type": "code",
   "execution_count": 19,
   "id": "03596d90",
   "metadata": {},
   "outputs": [],
   "source": [
    "data_tel['churn'] = (data_tel['EndDate'] != \"2020-02-01\")"
   ]
  },
  {
   "cell_type": "markdown",
   "id": "7054a511",
   "metadata": {},
   "source": [
    "Определил целевой признак"
   ]
  },
  {
   "cell_type": "code",
   "execution_count": 20,
   "id": "cb1644ef",
   "metadata": {},
   "outputs": [],
   "source": [
    "data_tel['churn'] = data_tel['churn'].astype('int')"
   ]
  },
  {
   "cell_type": "code",
   "execution_count": 21,
   "id": "f721545e",
   "metadata": {},
   "outputs": [
    {
     "data": {
      "text/plain": [
       "0    0.843675\n",
       "1    0.156325\n",
       "Name: churn, dtype: float64"
      ]
     },
     "execution_count": 21,
     "metadata": {},
     "output_type": "execute_result"
    }
   ],
   "source": [
    "data_tel['churn'].value_counts(normalize=True)"
   ]
  },
  {
   "cell_type": "markdown",
   "id": "b7a6474b",
   "metadata": {},
   "source": [
    "преобразую целевой признак по EndDate и создал новый столб ['churn'] с бинарным признаком оттока клиентов"
   ]
  },
  {
   "cell_type": "code",
   "execution_count": 22,
   "id": "0e78d8a6",
   "metadata": {},
   "outputs": [
    {
     "data": {
      "text/plain": [
       "Text(0, 0.5, 'Клиенты')"
      ]
     },
     "execution_count": 22,
     "metadata": {},
     "output_type": "execute_result"
    },
    {
     "data": {
      "image/png": "[encoded data removed]",
      "text/plain": [
       "<Figure size 640x480 with 1 Axes>"
      ]
     },
     "metadata": {},
     "output_type": "display_data"
    }
   ],
   "source": [
    "sns.countplot(x='StreamingTV', hue='churn', data=data_tel);\n",
    "plt.title('Распределение оттока клиентов в завимости о наличия услуги стриминга ТВ') \n",
    "plt.ylabel('Клиенты') "
   ]
  },
  {
   "cell_type": "code",
   "execution_count": 23,
   "id": "56f3f851",
   "metadata": {},
   "outputs": [
    {
     "data": {
      "text/html": [
       "<div>\n",
       "<style scoped>\n",
       "    .dataframe tbody tr th:only-of-type {\n",
       "        vertical-align: middle;\n",
       "    }\n",
       "\n",
       "    .dataframe tbody tr th {\n",
       "        vertical-align: top;\n",
       "    }\n",
       "\n",
       "    .dataframe thead th {\n",
       "        text-align: right;\n",
       "    }\n",
       "</style>\n",
       "<table border=\"1\" class=\"dataframe\">\n",
       "  <thead>\n",
       "    <tr style=\"text-align: right;\">\n",
       "      <th>StreamingTV</th>\n",
       "      <th>No</th>\n",
       "      <th>Yes</th>\n",
       "      <th>All</th>\n",
       "    </tr>\n",
       "    <tr>\n",
       "      <th>churn</th>\n",
       "      <th></th>\n",
       "      <th></th>\n",
       "      <th></th>\n",
       "    </tr>\n",
       "  </thead>\n",
       "  <tbody>\n",
       "    <tr>\n",
       "      <th>0</th>\n",
       "      <td>3819</td>\n",
       "      <td>2123</td>\n",
       "      <td>5942</td>\n",
       "    </tr>\n",
       "    <tr>\n",
       "      <th>1</th>\n",
       "      <td>517</td>\n",
       "      <td>584</td>\n",
       "      <td>1101</td>\n",
       "    </tr>\n",
       "    <tr>\n",
       "      <th>All</th>\n",
       "      <td>4336</td>\n",
       "      <td>2707</td>\n",
       "      <td>7043</td>\n",
       "    </tr>\n",
       "  </tbody>\n",
       "</table>\n",
       "</div>"
      ],
      "text/plain": [
       "StreamingTV    No   Yes   All\n",
       "churn                        \n",
       "0            3819  2123  5942\n",
       "1             517   584  1101\n",
       "All          4336  2707  7043"
      ]
     },
     "execution_count": 23,
     "metadata": {},
     "output_type": "execute_result"
    }
   ],
   "source": [
    "pd.crosstab(data_tel['churn'], data_tel['StreamingTV'], margins=True)"
   ]
  },
  {
   "cell_type": "markdown",
   "id": "6ae8500d",
   "metadata": {},
   "source": [
    "распределение оттока клиентов не сильно различается при наличии/отсутсвии стрименга ТВ"
   ]
  },
  {
   "cell_type": "code",
   "execution_count": 24,
   "id": "94f32328",
   "metadata": {},
   "outputs": [
    {
     "data": {
      "text/plain": [
       "Text(0, 0.5, 'Клиенты')"
      ]
     },
     "execution_count": 24,
     "metadata": {},
     "output_type": "execute_result"
    },
    {
     "data": {
      "image/png": "[encoded data removed]",
      "text/plain": [
       "<Figure size 640x480 with 1 Axes>"
      ]
     },
     "metadata": {},
     "output_type": "display_data"
    }
   ],
   "source": [
    "sns.countplot(x='TechSupport', hue='churn', data=data_tel);\n",
    "plt.title('Распределение оттока клиентов при обращении в тех.поддержку') \n",
    "plt.ylabel('Клиенты') "
   ]
  },
  {
   "cell_type": "code",
   "execution_count": 25,
   "id": "ba8730fb",
   "metadata": {},
   "outputs": [
    {
     "data": {
      "text/html": [
       "<div>\n",
       "<style scoped>\n",
       "    .dataframe tbody tr th:only-of-type {\n",
       "        vertical-align: middle;\n",
       "    }\n",
       "\n",
       "    .dataframe tbody tr th {\n",
       "        vertical-align: top;\n",
       "    }\n",
       "\n",
       "    .dataframe thead th {\n",
       "        text-align: right;\n",
       "    }\n",
       "</style>\n",
       "<table border=\"1\" class=\"dataframe\">\n",
       "  <thead>\n",
       "    <tr style=\"text-align: right;\">\n",
       "      <th>TechSupport</th>\n",
       "      <th>No</th>\n",
       "      <th>Yes</th>\n",
       "      <th>All</th>\n",
       "    </tr>\n",
       "    <tr>\n",
       "      <th>churn</th>\n",
       "      <th></th>\n",
       "      <th></th>\n",
       "      <th></th>\n",
       "    </tr>\n",
       "  </thead>\n",
       "  <tbody>\n",
       "    <tr>\n",
       "      <th>0</th>\n",
       "      <td>4296</td>\n",
       "      <td>1646</td>\n",
       "      <td>5942</td>\n",
       "    </tr>\n",
       "    <tr>\n",
       "      <th>1</th>\n",
       "      <td>703</td>\n",
       "      <td>398</td>\n",
       "      <td>1101</td>\n",
       "    </tr>\n",
       "    <tr>\n",
       "      <th>All</th>\n",
       "      <td>4999</td>\n",
       "      <td>2044</td>\n",
       "      <td>7043</td>\n",
       "    </tr>\n",
       "  </tbody>\n",
       "</table>\n",
       "</div>"
      ],
      "text/plain": [
       "TechSupport    No   Yes   All\n",
       "churn                        \n",
       "0            4296  1646  5942\n",
       "1             703   398  1101\n",
       "All          4999  2044  7043"
      ]
     },
     "execution_count": 25,
     "metadata": {},
     "output_type": "execute_result"
    }
   ],
   "source": [
    "pd.crosstab(data_tel['churn'], data_tel['TechSupport'], margins=True)"
   ]
  },
  {
   "cell_type": "markdown",
   "id": "11dcd2bc",
   "metadata": {},
   "source": [
    "Из графика видно, что те кто реже обращалсь в тех поддержку, чаще отказывались от услуг"
   ]
  },
  {
   "cell_type": "code",
   "execution_count": 26,
   "id": "6cc7fd80",
   "metadata": {},
   "outputs": [
    {
     "data": {
      "text/plain": [
       "Text(0, 0.5, 'Клиенты')"
      ]
     },
     "execution_count": 26,
     "metadata": {},
     "output_type": "execute_result"
    },
    {
     "data": {
      "image/png": "[encoded data removed]",
      "text/plain": [
       "<Figure size 640x480 with 1 Axes>"
      ]
     },
     "metadata": {},
     "output_type": "display_data"
    }
   ],
   "source": [
    "sns.countplot(x='gender', hue='churn', data=data_tel);\n",
    "plt.title('Распределение оттока клиентов в зависимости от пола') \n",
    "plt.ylabel('Клиенты') "
   ]
  },
  {
   "cell_type": "code",
   "execution_count": 27,
   "id": "fbdf8568",
   "metadata": {},
   "outputs": [
    {
     "data": {
      "text/html": [
       "<div>\n",
       "<style scoped>\n",
       "    .dataframe tbody tr th:only-of-type {\n",
       "        vertical-align: middle;\n",
       "    }\n",
       "\n",
       "    .dataframe tbody tr th {\n",
       "        vertical-align: top;\n",
       "    }\n",
       "\n",
       "    .dataframe thead th {\n",
       "        text-align: right;\n",
       "    }\n",
       "</style>\n",
       "<table border=\"1\" class=\"dataframe\">\n",
       "  <thead>\n",
       "    <tr style=\"text-align: right;\">\n",
       "      <th>gender</th>\n",
       "      <th>Female</th>\n",
       "      <th>Male</th>\n",
       "      <th>All</th>\n",
       "    </tr>\n",
       "    <tr>\n",
       "      <th>churn</th>\n",
       "      <th></th>\n",
       "      <th></th>\n",
       "      <th></th>\n",
       "    </tr>\n",
       "  </thead>\n",
       "  <tbody>\n",
       "    <tr>\n",
       "      <th>0</th>\n",
       "      <td>2960</td>\n",
       "      <td>2982</td>\n",
       "      <td>5942</td>\n",
       "    </tr>\n",
       "    <tr>\n",
       "      <th>1</th>\n",
       "      <td>528</td>\n",
       "      <td>573</td>\n",
       "      <td>1101</td>\n",
       "    </tr>\n",
       "    <tr>\n",
       "      <th>All</th>\n",
       "      <td>3488</td>\n",
       "      <td>3555</td>\n",
       "      <td>7043</td>\n",
       "    </tr>\n",
       "  </tbody>\n",
       "</table>\n",
       "</div>"
      ],
      "text/plain": [
       "gender  Female  Male   All\n",
       "churn                     \n",
       "0         2960  2982  5942\n",
       "1          528   573  1101\n",
       "All       3488  3555  7043"
      ]
     },
     "execution_count": 27,
     "metadata": {},
     "output_type": "execute_result"
    }
   ],
   "source": [
    "pd.crosstab(data_tel['churn'], data_tel['gender'], margins=True)"
   ]
  },
  {
   "cell_type": "markdown",
   "id": "52a56168",
   "metadata": {},
   "source": [
    "и мужчины и женщины одинакого преращают пользоватсья услугами"
   ]
  },
  {
   "cell_type": "code",
   "execution_count": 28,
   "id": "c4c65b5b",
   "metadata": {},
   "outputs": [
    {
     "data": {
      "text/plain": [
       "Text(0, 0.5, 'Клиенты')"
      ]
     },
     "execution_count": 28,
     "metadata": {},
     "output_type": "execute_result"
    },
    {
     "data": {
      "image/png": "[encoded data removed]",
      "text/plain": [
       "<Figure size 640x480 with 1 Axes>"
      ]
     },
     "metadata": {},
     "output_type": "display_data"
    }
   ],
   "source": [
    "sns.countplot(x='InternetService', hue='churn', data=data_tel);\n",
    "plt.title('Распределение оттока клиентов в зависимости от использования вида подключения') \n",
    "plt.ylabel('Клиенты') "
   ]
  },
  {
   "cell_type": "code",
   "execution_count": 29,
   "id": "d78c6d08",
   "metadata": {},
   "outputs": [
    {
     "data": {
      "text/html": [
       "<div>\n",
       "<style scoped>\n",
       "    .dataframe tbody tr th:only-of-type {\n",
       "        vertical-align: middle;\n",
       "    }\n",
       "\n",
       "    .dataframe tbody tr th {\n",
       "        vertical-align: top;\n",
       "    }\n",
       "\n",
       "    .dataframe thead th {\n",
       "        text-align: right;\n",
       "    }\n",
       "</style>\n",
       "<table border=\"1\" class=\"dataframe\">\n",
       "  <thead>\n",
       "    <tr style=\"text-align: right;\">\n",
       "      <th>gender</th>\n",
       "      <th>Female</th>\n",
       "      <th>Male</th>\n",
       "      <th>All</th>\n",
       "    </tr>\n",
       "    <tr>\n",
       "      <th>InternetService</th>\n",
       "      <th></th>\n",
       "      <th></th>\n",
       "      <th></th>\n",
       "    </tr>\n",
       "  </thead>\n",
       "  <tbody>\n",
       "    <tr>\n",
       "      <th>DSL</th>\n",
       "      <td>1188</td>\n",
       "      <td>1233</td>\n",
       "      <td>2421</td>\n",
       "    </tr>\n",
       "    <tr>\n",
       "      <th>Fiber optic</th>\n",
       "      <td>1553</td>\n",
       "      <td>1543</td>\n",
       "      <td>3096</td>\n",
       "    </tr>\n",
       "    <tr>\n",
       "      <th>No</th>\n",
       "      <td>747</td>\n",
       "      <td>779</td>\n",
       "      <td>1526</td>\n",
       "    </tr>\n",
       "    <tr>\n",
       "      <th>All</th>\n",
       "      <td>3488</td>\n",
       "      <td>3555</td>\n",
       "      <td>7043</td>\n",
       "    </tr>\n",
       "  </tbody>\n",
       "</table>\n",
       "</div>"
      ],
      "text/plain": [
       "gender           Female  Male   All\n",
       "InternetService                    \n",
       "DSL                1188  1233  2421\n",
       "Fiber optic        1553  1543  3096\n",
       "No                  747   779  1526\n",
       "All                3488  3555  7043"
      ]
     },
     "execution_count": 29,
     "metadata": {},
     "output_type": "execute_result"
    }
   ],
   "source": [
    "pd.crosstab(data_tel['InternetService'], data_tel['gender'], margins=True)"
   ]
  },
  {
   "cell_type": "markdown",
   "id": "980a6160",
   "metadata": {},
   "source": [
    "больше всего клиенты перестают пользоваться услугами которые имеют отическое подключение"
   ]
  },
  {
   "cell_type": "code",
   "execution_count": 30,
   "id": "0091f8b3",
   "metadata": {},
   "outputs": [
    {
     "data": {
      "text/plain": [
       "Text(0, 0.5, 'Клиенты')"
      ]
     },
     "execution_count": 30,
     "metadata": {},
     "output_type": "execute_result"
    },
    {
     "data": {
      "image/png": "[encoded data removed]",
      "text/plain": [
       "<Figure size 2000x1000 with 1 Axes>"
      ]
     },
     "metadata": {},
     "output_type": "display_data"
    }
   ],
   "source": [
    "plt.figure(figsize=(20, 10))\n",
    "sns.countplot(x='PaymentMethod', hue='churn', data=data_tel);\n",
    "plt.title('Распределение оттока клиентов в зависимости от использования типа оплат') \n",
    "plt.ylabel('Клиенты') "
   ]
  },
  {
   "cell_type": "markdown",
   "id": "a85cd942",
   "metadata": {},
   "source": [
    "из графика видно, что больше всего оттока клиентов происходит те кто оплачивают елктромнным чеком, менее всего оттока у клиентов которые использует почтовыю оплату"
   ]
  },
  {
   "cell_type": "code",
   "execution_count": 31,
   "id": "719cace6",
   "metadata": {},
   "outputs": [
    {
     "data": {
      "text/html": [
       "<div>\n",
       "<style scoped>\n",
       "    .dataframe tbody tr th:only-of-type {\n",
       "        vertical-align: middle;\n",
       "    }\n",
       "\n",
       "    .dataframe tbody tr th {\n",
       "        vertical-align: top;\n",
       "    }\n",
       "\n",
       "    .dataframe thead th {\n",
       "        text-align: right;\n",
       "    }\n",
       "</style>\n",
       "<table border=\"1\" class=\"dataframe\">\n",
       "  <thead>\n",
       "    <tr style=\"text-align: right;\">\n",
       "      <th></th>\n",
       "      <th>BeginDate</th>\n",
       "      <th>EndDate</th>\n",
       "      <th>Type</th>\n",
       "      <th>PaperlessBilling</th>\n",
       "      <th>PaymentMethod</th>\n",
       "      <th>MonthlyCharges</th>\n",
       "      <th>TotalCharges</th>\n",
       "      <th>MultipleLines</th>\n",
       "      <th>gender</th>\n",
       "      <th>SeniorCitizen</th>\n",
       "      <th>Partner</th>\n",
       "      <th>Dependents</th>\n",
       "      <th>InternetService</th>\n",
       "      <th>OnlineSecurity</th>\n",
       "      <th>OnlineBackup</th>\n",
       "      <th>DeviceProtection</th>\n",
       "      <th>TechSupport</th>\n",
       "      <th>StreamingTV</th>\n",
       "      <th>StreamingMovies</th>\n",
       "      <th>churn</th>\n",
       "    </tr>\n",
       "    <tr>\n",
       "      <th>customerID</th>\n",
       "      <th></th>\n",
       "      <th></th>\n",
       "      <th></th>\n",
       "      <th></th>\n",
       "      <th></th>\n",
       "      <th></th>\n",
       "      <th></th>\n",
       "      <th></th>\n",
       "      <th></th>\n",
       "      <th></th>\n",
       "      <th></th>\n",
       "      <th></th>\n",
       "      <th></th>\n",
       "      <th></th>\n",
       "      <th></th>\n",
       "      <th></th>\n",
       "      <th></th>\n",
       "      <th></th>\n",
       "      <th></th>\n",
       "      <th></th>\n",
       "    </tr>\n",
       "  </thead>\n",
       "  <tbody>\n",
       "    <tr>\n",
       "      <th>7590-VHVEG</th>\n",
       "      <td>2020-01-01</td>\n",
       "      <td>2020-02-01</td>\n",
       "      <td>Month-to-month</td>\n",
       "      <td>Yes</td>\n",
       "      <td>Electronic check</td>\n",
       "      <td>29.85</td>\n",
       "      <td>31</td>\n",
       "      <td>No</td>\n",
       "      <td>Female</td>\n",
       "      <td>0</td>\n",
       "      <td>Yes</td>\n",
       "      <td>No</td>\n",
       "      <td>DSL</td>\n",
       "      <td>No</td>\n",
       "      <td>Yes</td>\n",
       "      <td>No</td>\n",
       "      <td>No</td>\n",
       "      <td>No</td>\n",
       "      <td>No</td>\n",
       "      <td>0</td>\n",
       "    </tr>\n",
       "    <tr>\n",
       "      <th>5575-GNVDE</th>\n",
       "      <td>2017-04-01</td>\n",
       "      <td>2020-02-01</td>\n",
       "      <td>One year</td>\n",
       "      <td>No</td>\n",
       "      <td>Mailed check</td>\n",
       "      <td>56.95</td>\n",
       "      <td>2071</td>\n",
       "      <td>No</td>\n",
       "      <td>Male</td>\n",
       "      <td>0</td>\n",
       "      <td>No</td>\n",
       "      <td>No</td>\n",
       "      <td>DSL</td>\n",
       "      <td>Yes</td>\n",
       "      <td>No</td>\n",
       "      <td>Yes</td>\n",
       "      <td>No</td>\n",
       "      <td>No</td>\n",
       "      <td>No</td>\n",
       "      <td>0</td>\n",
       "    </tr>\n",
       "    <tr>\n",
       "      <th>3668-QPYBK</th>\n",
       "      <td>2019-10-01</td>\n",
       "      <td>2020-02-01</td>\n",
       "      <td>Month-to-month</td>\n",
       "      <td>Yes</td>\n",
       "      <td>Mailed check</td>\n",
       "      <td>53.85</td>\n",
       "      <td>226</td>\n",
       "      <td>No</td>\n",
       "      <td>Male</td>\n",
       "      <td>0</td>\n",
       "      <td>No</td>\n",
       "      <td>No</td>\n",
       "      <td>DSL</td>\n",
       "      <td>Yes</td>\n",
       "      <td>Yes</td>\n",
       "      <td>No</td>\n",
       "      <td>No</td>\n",
       "      <td>No</td>\n",
       "      <td>No</td>\n",
       "      <td>0</td>\n",
       "    </tr>\n",
       "    <tr>\n",
       "      <th>7795-CFOCW</th>\n",
       "      <td>2016-05-01</td>\n",
       "      <td>2020-02-01</td>\n",
       "      <td>One year</td>\n",
       "      <td>No</td>\n",
       "      <td>Bank transfer (automatic)</td>\n",
       "      <td>42.30</td>\n",
       "      <td>1960</td>\n",
       "      <td>No</td>\n",
       "      <td>Male</td>\n",
       "      <td>0</td>\n",
       "      <td>No</td>\n",
       "      <td>No</td>\n",
       "      <td>DSL</td>\n",
       "      <td>Yes</td>\n",
       "      <td>No</td>\n",
       "      <td>Yes</td>\n",
       "      <td>Yes</td>\n",
       "      <td>No</td>\n",
       "      <td>No</td>\n",
       "      <td>0</td>\n",
       "    </tr>\n",
       "    <tr>\n",
       "      <th>9237-HQITU</th>\n",
       "      <td>2019-09-01</td>\n",
       "      <td>2020-02-01</td>\n",
       "      <td>Month-to-month</td>\n",
       "      <td>Yes</td>\n",
       "      <td>Electronic check</td>\n",
       "      <td>70.70</td>\n",
       "      <td>353</td>\n",
       "      <td>No</td>\n",
       "      <td>Female</td>\n",
       "      <td>0</td>\n",
       "      <td>No</td>\n",
       "      <td>No</td>\n",
       "      <td>Fiber optic</td>\n",
       "      <td>No</td>\n",
       "      <td>No</td>\n",
       "      <td>No</td>\n",
       "      <td>No</td>\n",
       "      <td>No</td>\n",
       "      <td>No</td>\n",
       "      <td>0</td>\n",
       "    </tr>\n",
       "  </tbody>\n",
       "</table>\n",
       "</div>"
      ],
      "text/plain": [
       "            BeginDate    EndDate            Type PaperlessBilling  \\\n",
       "customerID                                                          \n",
       "7590-VHVEG 2020-01-01 2020-02-01  Month-to-month              Yes   \n",
       "5575-GNVDE 2017-04-01 2020-02-01        One year               No   \n",
       "3668-QPYBK 2019-10-01 2020-02-01  Month-to-month              Yes   \n",
       "7795-CFOCW 2016-05-01 2020-02-01        One year               No   \n",
       "9237-HQITU 2019-09-01 2020-02-01  Month-to-month              Yes   \n",
       "\n",
       "                        PaymentMethod  MonthlyCharges  TotalCharges  \\\n",
       "customerID                                                            \n",
       "7590-VHVEG           Electronic check           29.85            31   \n",
       "5575-GNVDE               Mailed check           56.95          2071   \n",
       "3668-QPYBK               Mailed check           53.85           226   \n",
       "7795-CFOCW  Bank transfer (automatic)           42.30          1960   \n",
       "9237-HQITU           Electronic check           70.70           353   \n",
       "\n",
       "           MultipleLines  gender  SeniorCitizen Partner Dependents  \\\n",
       "customerID                                                           \n",
       "7590-VHVEG            No  Female              0     Yes         No   \n",
       "5575-GNVDE            No    Male              0      No         No   \n",
       "3668-QPYBK            No    Male              0      No         No   \n",
       "7795-CFOCW            No    Male              0      No         No   \n",
       "9237-HQITU            No  Female              0      No         No   \n",
       "\n",
       "           InternetService OnlineSecurity OnlineBackup DeviceProtection  \\\n",
       "customerID                                                                \n",
       "7590-VHVEG             DSL             No          Yes               No   \n",
       "5575-GNVDE             DSL            Yes           No              Yes   \n",
       "3668-QPYBK             DSL            Yes          Yes               No   \n",
       "7795-CFOCW             DSL            Yes           No              Yes   \n",
       "9237-HQITU     Fiber optic             No           No               No   \n",
       "\n",
       "           TechSupport StreamingTV StreamingMovies  churn  \n",
       "customerID                                                 \n",
       "7590-VHVEG          No          No              No      0  \n",
       "5575-GNVDE          No          No              No      0  \n",
       "3668-QPYBK          No          No              No      0  \n",
       "7795-CFOCW         Yes          No              No      0  \n",
       "9237-HQITU          No          No              No      0  "
      ]
     },
     "execution_count": 31,
     "metadata": {},
     "output_type": "execute_result"
    }
   ],
   "source": [
    "data_tel.head()"
   ]
  },
  {
   "cell_type": "code",
   "execution_count": 32,
   "id": "f177d7e5",
   "metadata": {},
   "outputs": [
    {
     "data": {
      "image/png": "[encoded data removed]",
      "text/plain": [
       "<Figure size 800x600 with 1 Axes>"
      ]
     },
     "metadata": {},
     "output_type": "display_data"
    }
   ],
   "source": [
    "plt.figure(figsize=(8, 6))  \n",
    "data_tel['MonthlyCharges'].hist(bins=20)  \n",
    "plt.title('Распределение трат клиентов за месяц') \n",
    "plt.xlabel('Клиенты')  \n",
    "plt.ylabel('Сумма трат')  \n",
    "plt.show()\n",
    "                                    "
   ]
  },
  {
   "cell_type": "code",
   "execution_count": 33,
   "id": "3fc2d1c1",
   "metadata": {},
   "outputs": [
    {
     "data": {
      "image/png": "[encoded data removed]",
      "text/plain": [
       "<Figure size 800x600 with 1 Axes>"
      ]
     },
     "metadata": {},
     "output_type": "display_data"
    }
   ],
   "source": [
    "plt.figure(figsize=(8, 6))  \n",
    "data_tel['TotalCharges'].hist(bins=20)  \n",
    "plt.title('Распределение траты клиентов за все время') \n",
    "plt.xlabel('Клиенты')  \n",
    "plt.ylabel('Сумма трат')  \n",
    "plt.show()"
   ]
  },
  {
   "cell_type": "code",
   "execution_count": 34,
   "id": "5b20c5b2",
   "metadata": {},
   "outputs": [
    {
     "name": "stdout",
     "output_type": "stream",
     "text": [
      "interval columns not set, guessing: ['MonthlyCharges', 'TotalCharges', 'SeniorCitizen', 'churn']\n"
     ]
    },
    {
     "data": {
      "image/png": "[encoded data removed]",
      "text/plain": [
       "<Figure size 640x480 with 2 Axes>"
      ]
     },
     "metadata": {},
     "output_type": "display_data"
    }
   ],
   "source": [
    "sns.heatmap(data_tel.phik_matrix());"
   ]
  },
  {
   "cell_type": "markdown",
   "id": "4058eb21",
   "metadata": {},
   "source": [
    "Использвал библеотеку phik построил матрицу корреляции для категориальных признаков, проанализировов можно сказать следующее: есть высокая зависимость  интернет сервисов и месячной платы, а так же мульти коллениарность у churn и enddate, позже я удалю enddate. "
   ]
  },
  {
   "cell_type": "code",
   "execution_count": 35,
   "id": "5cb32a9d",
   "metadata": {},
   "outputs": [
    {
     "data": {
      "text/html": [
       "<div>\n",
       "<style scoped>\n",
       "    .dataframe tbody tr th:only-of-type {\n",
       "        vertical-align: middle;\n",
       "    }\n",
       "\n",
       "    .dataframe tbody tr th {\n",
       "        vertical-align: top;\n",
       "    }\n",
       "\n",
       "    .dataframe thead th {\n",
       "        text-align: right;\n",
       "    }\n",
       "</style>\n",
       "<table border=\"1\" class=\"dataframe\">\n",
       "  <thead>\n",
       "    <tr style=\"text-align: right;\">\n",
       "      <th></th>\n",
       "      <th>BeginDate</th>\n",
       "      <th>EndDate</th>\n",
       "      <th>Type</th>\n",
       "      <th>PaperlessBilling</th>\n",
       "      <th>PaymentMethod</th>\n",
       "      <th>MonthlyCharges</th>\n",
       "      <th>TotalCharges</th>\n",
       "      <th>MultipleLines</th>\n",
       "      <th>gender</th>\n",
       "      <th>SeniorCitizen</th>\n",
       "      <th>Partner</th>\n",
       "      <th>Dependents</th>\n",
       "      <th>InternetService</th>\n",
       "      <th>OnlineSecurity</th>\n",
       "      <th>OnlineBackup</th>\n",
       "      <th>DeviceProtection</th>\n",
       "      <th>TechSupport</th>\n",
       "      <th>StreamingTV</th>\n",
       "      <th>StreamingMovies</th>\n",
       "      <th>churn</th>\n",
       "    </tr>\n",
       "    <tr>\n",
       "      <th>customerID</th>\n",
       "      <th></th>\n",
       "      <th></th>\n",
       "      <th></th>\n",
       "      <th></th>\n",
       "      <th></th>\n",
       "      <th></th>\n",
       "      <th></th>\n",
       "      <th></th>\n",
       "      <th></th>\n",
       "      <th></th>\n",
       "      <th></th>\n",
       "      <th></th>\n",
       "      <th></th>\n",
       "      <th></th>\n",
       "      <th></th>\n",
       "      <th></th>\n",
       "      <th></th>\n",
       "      <th></th>\n",
       "      <th></th>\n",
       "      <th></th>\n",
       "    </tr>\n",
       "  </thead>\n",
       "  <tbody>\n",
       "    <tr>\n",
       "      <th>7590-VHVEG</th>\n",
       "      <td>2020-01-01</td>\n",
       "      <td>2020-02-01</td>\n",
       "      <td>Month-to-month</td>\n",
       "      <td>Yes</td>\n",
       "      <td>Electronic check</td>\n",
       "      <td>29.85</td>\n",
       "      <td>31</td>\n",
       "      <td>No</td>\n",
       "      <td>Female</td>\n",
       "      <td>0</td>\n",
       "      <td>Yes</td>\n",
       "      <td>No</td>\n",
       "      <td>DSL</td>\n",
       "      <td>No</td>\n",
       "      <td>Yes</td>\n",
       "      <td>No</td>\n",
       "      <td>No</td>\n",
       "      <td>No</td>\n",
       "      <td>No</td>\n",
       "      <td>0</td>\n",
       "    </tr>\n",
       "    <tr>\n",
       "      <th>5575-GNVDE</th>\n",
       "      <td>2017-04-01</td>\n",
       "      <td>2020-02-01</td>\n",
       "      <td>One year</td>\n",
       "      <td>No</td>\n",
       "      <td>Mailed check</td>\n",
       "      <td>56.95</td>\n",
       "      <td>2071</td>\n",
       "      <td>No</td>\n",
       "      <td>Male</td>\n",
       "      <td>0</td>\n",
       "      <td>No</td>\n",
       "      <td>No</td>\n",
       "      <td>DSL</td>\n",
       "      <td>Yes</td>\n",
       "      <td>No</td>\n",
       "      <td>Yes</td>\n",
       "      <td>No</td>\n",
       "      <td>No</td>\n",
       "      <td>No</td>\n",
       "      <td>0</td>\n",
       "    </tr>\n",
       "    <tr>\n",
       "      <th>3668-QPYBK</th>\n",
       "      <td>2019-10-01</td>\n",
       "      <td>2020-02-01</td>\n",
       "      <td>Month-to-month</td>\n",
       "      <td>Yes</td>\n",
       "      <td>Mailed check</td>\n",
       "      <td>53.85</td>\n",
       "      <td>226</td>\n",
       "      <td>No</td>\n",
       "      <td>Male</td>\n",
       "      <td>0</td>\n",
       "      <td>No</td>\n",
       "      <td>No</td>\n",
       "      <td>DSL</td>\n",
       "      <td>Yes</td>\n",
       "      <td>Yes</td>\n",
       "      <td>No</td>\n",
       "      <td>No</td>\n",
       "      <td>No</td>\n",
       "      <td>No</td>\n",
       "      <td>0</td>\n",
       "    </tr>\n",
       "    <tr>\n",
       "      <th>7795-CFOCW</th>\n",
       "      <td>2016-05-01</td>\n",
       "      <td>2020-02-01</td>\n",
       "      <td>One year</td>\n",
       "      <td>No</td>\n",
       "      <td>Bank transfer (automatic)</td>\n",
       "      <td>42.30</td>\n",
       "      <td>1960</td>\n",
       "      <td>No</td>\n",
       "      <td>Male</td>\n",
       "      <td>0</td>\n",
       "      <td>No</td>\n",
       "      <td>No</td>\n",
       "      <td>DSL</td>\n",
       "      <td>Yes</td>\n",
       "      <td>No</td>\n",
       "      <td>Yes</td>\n",
       "      <td>Yes</td>\n",
       "      <td>No</td>\n",
       "      <td>No</td>\n",
       "      <td>0</td>\n",
       "    </tr>\n",
       "    <tr>\n",
       "      <th>9237-HQITU</th>\n",
       "      <td>2019-09-01</td>\n",
       "      <td>2020-02-01</td>\n",
       "      <td>Month-to-month</td>\n",
       "      <td>Yes</td>\n",
       "      <td>Electronic check</td>\n",
       "      <td>70.70</td>\n",
       "      <td>353</td>\n",
       "      <td>No</td>\n",
       "      <td>Female</td>\n",
       "      <td>0</td>\n",
       "      <td>No</td>\n",
       "      <td>No</td>\n",
       "      <td>Fiber optic</td>\n",
       "      <td>No</td>\n",
       "      <td>No</td>\n",
       "      <td>No</td>\n",
       "      <td>No</td>\n",
       "      <td>No</td>\n",
       "      <td>No</td>\n",
       "      <td>0</td>\n",
       "    </tr>\n",
       "  </tbody>\n",
       "</table>\n",
       "</div>"
      ],
      "text/plain": [
       "            BeginDate    EndDate            Type PaperlessBilling  \\\n",
       "customerID                                                          \n",
       "7590-VHVEG 2020-01-01 2020-02-01  Month-to-month              Yes   \n",
       "5575-GNVDE 2017-04-01 2020-02-01        One year               No   \n",
       "3668-QPYBK 2019-10-01 2020-02-01  Month-to-month              Yes   \n",
       "7795-CFOCW 2016-05-01 2020-02-01        One year               No   \n",
       "9237-HQITU 2019-09-01 2020-02-01  Month-to-month              Yes   \n",
       "\n",
       "                        PaymentMethod  MonthlyCharges  TotalCharges  \\\n",
       "customerID                                                            \n",
       "7590-VHVEG           Electronic check           29.85            31   \n",
       "5575-GNVDE               Mailed check           56.95          2071   \n",
       "3668-QPYBK               Mailed check           53.85           226   \n",
       "7795-CFOCW  Bank transfer (automatic)           42.30          1960   \n",
       "9237-HQITU           Electronic check           70.70           353   \n",
       "\n",
       "           MultipleLines  gender  SeniorCitizen Partner Dependents  \\\n",
       "customerID                                                           \n",
       "7590-VHVEG            No  Female              0     Yes         No   \n",
       "5575-GNVDE            No    Male              0      No         No   \n",
       "3668-QPYBK            No    Male              0      No         No   \n",
       "7795-CFOCW            No    Male              0      No         No   \n",
       "9237-HQITU            No  Female              0      No         No   \n",
       "\n",
       "           InternetService OnlineSecurity OnlineBackup DeviceProtection  \\\n",
       "customerID                                                                \n",
       "7590-VHVEG             DSL             No          Yes               No   \n",
       "5575-GNVDE             DSL            Yes           No              Yes   \n",
       "3668-QPYBK             DSL            Yes          Yes               No   \n",
       "7795-CFOCW             DSL            Yes           No              Yes   \n",
       "9237-HQITU     Fiber optic             No           No               No   \n",
       "\n",
       "           TechSupport StreamingTV StreamingMovies  churn  \n",
       "customerID                                                 \n",
       "7590-VHVEG          No          No              No      0  \n",
       "5575-GNVDE          No          No              No      0  \n",
       "3668-QPYBK          No          No              No      0  \n",
       "7795-CFOCW         Yes          No              No      0  \n",
       "9237-HQITU          No          No              No      0  "
      ]
     },
     "execution_count": 35,
     "metadata": {},
     "output_type": "execute_result"
    }
   ],
   "source": [
    "data_tel.head()"
   ]
  },
  {
   "cell_type": "code",
   "execution_count": 36,
   "id": "6ffe6699",
   "metadata": {},
   "outputs": [],
   "source": [
    "data_tel['AllDays'] = (data_tel['EndDate'] - data_tel['BeginDate']).dt.days"
   ]
  },
  {
   "cell_type": "markdown",
   "id": "5b2f08e2",
   "metadata": {},
   "source": [
    "Создал новую колонку AllDays (всего сколько дней килент пользовался услугами)"
   ]
  },
  {
   "cell_type": "code",
   "execution_count": 37,
   "id": "ed638028",
   "metadata": {},
   "outputs": [],
   "source": [
    "random_st = 50623 "
   ]
  },
  {
   "cell_type": "code",
   "execution_count": 38,
   "id": "a7911e52",
   "metadata": {},
   "outputs": [],
   "source": [
    "data_tel = data_tel.drop(['BeginDate', 'EndDate'], axis=1)"
   ]
  },
  {
   "cell_type": "code",
   "execution_count": 39,
   "id": "d8b33c8f",
   "metadata": {},
   "outputs": [
    {
     "data": {
      "text/plain": [
       "(7043, 19)"
      ]
     },
     "execution_count": 39,
     "metadata": {},
     "output_type": "execute_result"
    }
   ],
   "source": [
    "data_tel.shape"
   ]
  },
  {
   "cell_type": "code",
   "execution_count": 40,
   "id": "59df4076",
   "metadata": {},
   "outputs": [],
   "source": [
    "target = data_tel['churn'] \n",
    "features = data_tel.drop(columns=['churn'])"
   ]
  },
  {
   "cell_type": "markdown",
   "id": "6c41f593",
   "metadata": {},
   "source": [
    "определил таргет и фичи"
   ]
  },
  {
   "cell_type": "code",
   "execution_count": 41,
   "id": "519fb888",
   "metadata": {},
   "outputs": [],
   "source": [
    "features_train, features_test, target_train, target_test = train_test_split(features, target, test_size=0.25, random_state=random_st)"
   ]
  },
  {
   "cell_type": "markdown",
   "id": "703eec4c",
   "metadata": {},
   "source": [
    "разбил на выборки"
   ]
  },
  {
   "cell_type": "code",
   "execution_count": 42,
   "id": "11d74e51",
   "metadata": {},
   "outputs": [],
   "source": [
    "#features_train_cod = pd.get_dummies(features_train, drop_first=True)\n",
    "#features_test_cod = pd.get_dummies(features_test, drop_first=True)"
   ]
  },
  {
   "cell_type": "code",
   "execution_count": 43,
   "id": "39de289a",
   "metadata": {},
   "outputs": [
    {
     "name": "stdout",
     "output_type": "stream",
     "text": [
      "['Type', 'PaperlessBilling', 'PaymentMethod', 'MultipleLines', 'gender', 'Partner', 'Dependents', 'InternetService', 'OnlineSecurity', 'OnlineBackup', 'DeviceProtection', 'TechSupport', 'StreamingTV', 'StreamingMovies']\n",
      "['Type', 'PaperlessBilling', 'PaymentMethod', 'MultipleLines', 'gender', 'Partner', 'Dependents', 'InternetService', 'OnlineSecurity', 'OnlineBackup', 'DeviceProtection', 'TechSupport', 'StreamingTV', 'StreamingMovies']\n"
     ]
    }
   ],
   "source": [
    "ohe_features_train = features_train.select_dtypes(include='object').columns.to_list()\n",
    "print(ohe_features_train)\n",
    "ohe_features_test = features_test.select_dtypes(include='object').columns.to_list()\n",
    "print(ohe_features_test)"
   ]
  },
  {
   "cell_type": "code",
   "execution_count": 44,
   "id": "9912301b",
   "metadata": {},
   "outputs": [
    {
     "data": {
      "text/html": [
       "<style>#sk-container-id-1 {color: black;background-color: white;}#sk-container-id-1 pre{padding: 0;}#sk-container-id-1 div.sk-toggleable {background-color: white;}#sk-container-id-1 label.sk-toggleable__label {cursor: pointer;display: block;width: 100%;margin-bottom: 0;padding: 0.3em;box-sizing: border-box;text-align: center;}#sk-container-id-1 label.sk-toggleable__label-arrow:before {content: \"▸\";float: left;margin-right: 0.25em;color: #696969;}#sk-container-id-1 label.sk-toggleable__label-arrow:hover:before {color: black;}#sk-container-id-1 div.sk-estimator:hover label.sk-toggleable__label-arrow:before {color: black;}#sk-container-id-1 div.sk-toggleable__content {max-height: 0;max-width: 0;overflow: hidden;text-align: left;background-color: #f0f8ff;}#sk-container-id-1 div.sk-toggleable__content pre {margin: 0.2em;color: black;border-radius: 0.25em;background-color: #f0f8ff;}#sk-container-id-1 input.sk-toggleable__control:checked~div.sk-toggleable__content {max-height: 200px;max-width: 100%;overflow: auto;}#sk-container-id-1 input.sk-toggleable__control:checked~label.sk-toggleable__label-arrow:before {content: \"▾\";}#sk-container-id-1 div.sk-estimator input.sk-toggleable__control:checked~label.sk-toggleable__label {background-color: #d4ebff;}#sk-container-id-1 div.sk-label input.sk-toggleable__control:checked~label.sk-toggleable__label {background-color: #d4ebff;}#sk-container-id-1 input.sk-hidden--visually {border: 0;clip: rect(1px 1px 1px 1px);clip: rect(1px, 1px, 1px, 1px);height: 1px;margin: -1px;overflow: hidden;padding: 0;position: absolute;width: 1px;}#sk-container-id-1 div.sk-estimator {font-family: monospace;background-color: #f0f8ff;border: 1px dotted black;border-radius: 0.25em;box-sizing: border-box;margin-bottom: 0.5em;}#sk-container-id-1 div.sk-estimator:hover {background-color: #d4ebff;}#sk-container-id-1 div.sk-parallel-item::after {content: \"\";width: 100%;border-bottom: 1px solid gray;flex-grow: 1;}#sk-container-id-1 div.sk-label:hover label.sk-toggleable__label {background-color: #d4ebff;}#sk-container-id-1 div.sk-serial::before {content: \"\";position: absolute;border-left: 1px solid gray;box-sizing: border-box;top: 0;bottom: 0;left: 50%;z-index: 0;}#sk-container-id-1 div.sk-serial {display: flex;flex-direction: column;align-items: center;background-color: white;padding-right: 0.2em;padding-left: 0.2em;position: relative;}#sk-container-id-1 div.sk-item {position: relative;z-index: 1;}#sk-container-id-1 div.sk-parallel {display: flex;align-items: stretch;justify-content: center;background-color: white;position: relative;}#sk-container-id-1 div.sk-item::before, #sk-container-id-1 div.sk-parallel-item::before {content: \"\";position: absolute;border-left: 1px solid gray;box-sizing: border-box;top: 0;bottom: 0;left: 50%;z-index: -1;}#sk-container-id-1 div.sk-parallel-item {display: flex;flex-direction: column;z-index: 1;position: relative;background-color: white;}#sk-container-id-1 div.sk-parallel-item:first-child::after {align-self: flex-end;width: 50%;}#sk-container-id-1 div.sk-parallel-item:last-child::after {align-self: flex-start;width: 50%;}#sk-container-id-1 div.sk-parallel-item:only-child::after {width: 0;}#sk-container-id-1 div.sk-dashed-wrapped {border: 1px dashed gray;margin: 0 0.4em 0.5em 0.4em;box-sizing: border-box;padding-bottom: 0.4em;background-color: white;}#sk-container-id-1 div.sk-label label {font-family: monospace;font-weight: bold;display: inline-block;line-height: 1.2em;}#sk-container-id-1 div.sk-label-container {text-align: center;}#sk-container-id-1 div.sk-container {/* jupyter's `normalize.less` sets `[hidden] { display: none; }` but bootstrap.min.css set `[hidden] { display: none !important; }` so we also need the `!important` here to be able to override the default hidden behavior on the sphinx rendered scikit-learn.org. See: https://github.com/scikit-learn/scikit-learn/issues/21755 */display: inline-block !important;position: relative;}#sk-container-id-1 div.sk-text-repr-fallback {display: none;}</style><div id=\"sk-container-id-1\" class=\"sk-top-container\"><div class=\"sk-text-repr-fallback\"><pre>OneHotEncoder(drop=&#x27;first&#x27;, handle_unknown=&#x27;ignore&#x27;, sparse=False)</pre><b>In a Jupyter environment, please rerun this cell to show the HTML representation or trust the notebook. <br />On GitHub, the HTML representation is unable to render, please try loading this page with nbviewer.org.</b></div><div class=\"sk-container\" hidden><div class=\"sk-item\"><div class=\"sk-estimator sk-toggleable\"><input class=\"sk-toggleable__control sk-hidden--visually\" id=\"sk-estimator-id-1\" type=\"checkbox\" checked><label for=\"sk-estimator-id-1\" class=\"sk-toggleable__label sk-toggleable__label-arrow\">OneHotEncoder</label><div class=\"sk-toggleable__content\"><pre>OneHotEncoder(drop=&#x27;first&#x27;, handle_unknown=&#x27;ignore&#x27;, sparse=False)</pre></div></div></div></div></div>"
      ],
      "text/plain": [
       "OneHotEncoder(drop='first', handle_unknown='ignore', sparse=False)"
      ]
     },
     "execution_count": 44,
     "metadata": {},
     "output_type": "execute_result"
    }
   ],
   "source": [
    "encoder_ohe = OneHotEncoder(drop='first', handle_unknown='ignore', sparse=False)\n",
    "encoder_ohe.fit(features_train[ohe_features_train])"
   ]
  },
  {
   "cell_type": "code",
   "execution_count": 45,
   "id": "71ba2830",
   "metadata": {},
   "outputs": [
    {
     "data": {
      "text/html": [
       "<div>\n",
       "<style scoped>\n",
       "    .dataframe tbody tr th:only-of-type {\n",
       "        vertical-align: middle;\n",
       "    }\n",
       "\n",
       "    .dataframe tbody tr th {\n",
       "        vertical-align: top;\n",
       "    }\n",
       "\n",
       "    .dataframe thead th {\n",
       "        text-align: right;\n",
       "    }\n",
       "</style>\n",
       "<table border=\"1\" class=\"dataframe\">\n",
       "  <thead>\n",
       "    <tr style=\"text-align: right;\">\n",
       "      <th></th>\n",
       "      <th>MonthlyCharges</th>\n",
       "      <th>TotalCharges</th>\n",
       "      <th>SeniorCitizen</th>\n",
       "      <th>AllDays</th>\n",
       "      <th>Type_One year</th>\n",
       "      <th>Type_Two year</th>\n",
       "      <th>PaperlessBilling_Yes</th>\n",
       "      <th>PaymentMethod_Credit card (automatic)</th>\n",
       "      <th>PaymentMethod_Electronic check</th>\n",
       "      <th>PaymentMethod_Mailed check</th>\n",
       "      <th>...</th>\n",
       "      <th>Partner_Yes</th>\n",
       "      <th>Dependents_Yes</th>\n",
       "      <th>InternetService_Fiber optic</th>\n",
       "      <th>InternetService_No</th>\n",
       "      <th>OnlineSecurity_Yes</th>\n",
       "      <th>OnlineBackup_Yes</th>\n",
       "      <th>DeviceProtection_Yes</th>\n",
       "      <th>TechSupport_Yes</th>\n",
       "      <th>StreamingTV_Yes</th>\n",
       "      <th>StreamingMovies_Yes</th>\n",
       "    </tr>\n",
       "    <tr>\n",
       "      <th>customerID</th>\n",
       "      <th></th>\n",
       "      <th></th>\n",
       "      <th></th>\n",
       "      <th></th>\n",
       "      <th></th>\n",
       "      <th></th>\n",
       "      <th></th>\n",
       "      <th></th>\n",
       "      <th></th>\n",
       "      <th></th>\n",
       "      <th></th>\n",
       "      <th></th>\n",
       "      <th></th>\n",
       "      <th></th>\n",
       "      <th></th>\n",
       "      <th></th>\n",
       "      <th></th>\n",
       "      <th></th>\n",
       "      <th></th>\n",
       "      <th></th>\n",
       "      <th></th>\n",
       "    </tr>\n",
       "  </thead>\n",
       "  <tbody>\n",
       "    <tr>\n",
       "      <th>5949-EBSQK</th>\n",
       "      <td>61.45</td>\n",
       "      <td>307</td>\n",
       "      <td>0</td>\n",
       "      <td>153</td>\n",
       "      <td>0.0</td>\n",
       "      <td>0.0</td>\n",
       "      <td>0.0</td>\n",
       "      <td>1.0</td>\n",
       "      <td>0.0</td>\n",
       "      <td>0.0</td>\n",
       "      <td>...</td>\n",
       "      <td>1.0</td>\n",
       "      <td>1.0</td>\n",
       "      <td>0.0</td>\n",
       "      <td>0.0</td>\n",
       "      <td>0.0</td>\n",
       "      <td>0.0</td>\n",
       "      <td>0.0</td>\n",
       "      <td>1.0</td>\n",
       "      <td>0.0</td>\n",
       "      <td>1.0</td>\n",
       "    </tr>\n",
       "    <tr>\n",
       "      <th>4760-XOHVN</th>\n",
       "      <td>19.45</td>\n",
       "      <td>38</td>\n",
       "      <td>0</td>\n",
       "      <td>62</td>\n",
       "      <td>0.0</td>\n",
       "      <td>0.0</td>\n",
       "      <td>0.0</td>\n",
       "      <td>0.0</td>\n",
       "      <td>0.0</td>\n",
       "      <td>1.0</td>\n",
       "      <td>...</td>\n",
       "      <td>1.0</td>\n",
       "      <td>1.0</td>\n",
       "      <td>0.0</td>\n",
       "      <td>1.0</td>\n",
       "      <td>0.0</td>\n",
       "      <td>0.0</td>\n",
       "      <td>0.0</td>\n",
       "      <td>0.0</td>\n",
       "      <td>0.0</td>\n",
       "      <td>0.0</td>\n",
       "    </tr>\n",
       "    <tr>\n",
       "      <th>2607-FBDFF</th>\n",
       "      <td>49.00</td>\n",
       "      <td>49</td>\n",
       "      <td>0</td>\n",
       "      <td>31</td>\n",
       "      <td>0.0</td>\n",
       "      <td>0.0</td>\n",
       "      <td>0.0</td>\n",
       "      <td>1.0</td>\n",
       "      <td>0.0</td>\n",
       "      <td>0.0</td>\n",
       "      <td>...</td>\n",
       "      <td>0.0</td>\n",
       "      <td>0.0</td>\n",
       "      <td>0.0</td>\n",
       "      <td>0.0</td>\n",
       "      <td>0.0</td>\n",
       "      <td>0.0</td>\n",
       "      <td>0.0</td>\n",
       "      <td>1.0</td>\n",
       "      <td>0.0</td>\n",
       "      <td>0.0</td>\n",
       "    </tr>\n",
       "    <tr>\n",
       "      <th>3125-RAHBV</th>\n",
       "      <td>20.30</td>\n",
       "      <td>455</td>\n",
       "      <td>0</td>\n",
       "      <td>671</td>\n",
       "      <td>1.0</td>\n",
       "      <td>0.0</td>\n",
       "      <td>0.0</td>\n",
       "      <td>1.0</td>\n",
       "      <td>0.0</td>\n",
       "      <td>0.0</td>\n",
       "      <td>...</td>\n",
       "      <td>0.0</td>\n",
       "      <td>0.0</td>\n",
       "      <td>0.0</td>\n",
       "      <td>1.0</td>\n",
       "      <td>0.0</td>\n",
       "      <td>0.0</td>\n",
       "      <td>0.0</td>\n",
       "      <td>0.0</td>\n",
       "      <td>0.0</td>\n",
       "      <td>0.0</td>\n",
       "    </tr>\n",
       "    <tr>\n",
       "      <th>2829-HYVZP</th>\n",
       "      <td>19.80</td>\n",
       "      <td>574</td>\n",
       "      <td>0</td>\n",
       "      <td>883</td>\n",
       "      <td>1.0</td>\n",
       "      <td>0.0</td>\n",
       "      <td>1.0</td>\n",
       "      <td>0.0</td>\n",
       "      <td>0.0</td>\n",
       "      <td>1.0</td>\n",
       "      <td>...</td>\n",
       "      <td>0.0</td>\n",
       "      <td>0.0</td>\n",
       "      <td>0.0</td>\n",
       "      <td>1.0</td>\n",
       "      <td>0.0</td>\n",
       "      <td>0.0</td>\n",
       "      <td>0.0</td>\n",
       "      <td>0.0</td>\n",
       "      <td>0.0</td>\n",
       "      <td>0.0</td>\n",
       "    </tr>\n",
       "  </tbody>\n",
       "</table>\n",
       "<p>5 rows × 22 columns</p>\n",
       "</div>"
      ],
      "text/plain": [
       "            MonthlyCharges  TotalCharges  SeniorCitizen  AllDays  \\\n",
       "customerID                                                         \n",
       "5949-EBSQK           61.45           307              0      153   \n",
       "4760-XOHVN           19.45            38              0       62   \n",
       "2607-FBDFF           49.00            49              0       31   \n",
       "3125-RAHBV           20.30           455              0      671   \n",
       "2829-HYVZP           19.80           574              0      883   \n",
       "\n",
       "            Type_One year  Type_Two year  PaperlessBilling_Yes  \\\n",
       "customerID                                                       \n",
       "5949-EBSQK            0.0            0.0                   0.0   \n",
       "4760-XOHVN            0.0            0.0                   0.0   \n",
       "2607-FBDFF            0.0            0.0                   0.0   \n",
       "3125-RAHBV            1.0            0.0                   0.0   \n",
       "2829-HYVZP            1.0            0.0                   1.0   \n",
       "\n",
       "            PaymentMethod_Credit card (automatic)  \\\n",
       "customerID                                          \n",
       "5949-EBSQK                                    1.0   \n",
       "4760-XOHVN                                    0.0   \n",
       "2607-FBDFF                                    1.0   \n",
       "3125-RAHBV                                    1.0   \n",
       "2829-HYVZP                                    0.0   \n",
       "\n",
       "            PaymentMethod_Electronic check  PaymentMethod_Mailed check  ...  \\\n",
       "customerID                                                              ...   \n",
       "5949-EBSQK                             0.0                         0.0  ...   \n",
       "4760-XOHVN                             0.0                         1.0  ...   \n",
       "2607-FBDFF                             0.0                         0.0  ...   \n",
       "3125-RAHBV                             0.0                         0.0  ...   \n",
       "2829-HYVZP                             0.0                         1.0  ...   \n",
       "\n",
       "            Partner_Yes  Dependents_Yes  InternetService_Fiber optic  \\\n",
       "customerID                                                             \n",
       "5949-EBSQK          1.0             1.0                          0.0   \n",
       "4760-XOHVN          1.0             1.0                          0.0   \n",
       "2607-FBDFF          0.0             0.0                          0.0   \n",
       "3125-RAHBV          0.0             0.0                          0.0   \n",
       "2829-HYVZP          0.0             0.0                          0.0   \n",
       "\n",
       "            InternetService_No  OnlineSecurity_Yes  OnlineBackup_Yes  \\\n",
       "customerID                                                             \n",
       "5949-EBSQK                 0.0                 0.0               0.0   \n",
       "4760-XOHVN                 1.0                 0.0               0.0   \n",
       "2607-FBDFF                 0.0                 0.0               0.0   \n",
       "3125-RAHBV                 1.0                 0.0               0.0   \n",
       "2829-HYVZP                 1.0                 0.0               0.0   \n",
       "\n",
       "            DeviceProtection_Yes  TechSupport_Yes  StreamingTV_Yes  \\\n",
       "customerID                                                           \n",
       "5949-EBSQK                   0.0              1.0              0.0   \n",
       "4760-XOHVN                   0.0              0.0              0.0   \n",
       "2607-FBDFF                   0.0              1.0              0.0   \n",
       "3125-RAHBV                   0.0              0.0              0.0   \n",
       "2829-HYVZP                   0.0              0.0              0.0   \n",
       "\n",
       "            StreamingMovies_Yes  \n",
       "customerID                       \n",
       "5949-EBSQK                  1.0  \n",
       "4760-XOHVN                  0.0  \n",
       "2607-FBDFF                  0.0  \n",
       "3125-RAHBV                  0.0  \n",
       "2829-HYVZP                  0.0  \n",
       "\n",
       "[5 rows x 22 columns]"
      ]
     },
     "execution_count": 45,
     "metadata": {},
     "output_type": "execute_result"
    }
   ],
   "source": [
    "features_train[\n",
    "    encoder_ohe.get_feature_names_out()\n",
    "] = encoder_ohe.transform(features_train[ohe_features_train])\n",
    "features_train = features_train.drop(ohe_features_train, axis=1)\n",
    "features_train.head()"
   ]
  },
  {
   "cell_type": "code",
   "execution_count": 46,
   "id": "b05ff1a6",
   "metadata": {},
   "outputs": [
    {
     "data": {
      "text/html": [
       "<div>\n",
       "<style scoped>\n",
       "    .dataframe tbody tr th:only-of-type {\n",
       "        vertical-align: middle;\n",
       "    }\n",
       "\n",
       "    .dataframe tbody tr th {\n",
       "        vertical-align: top;\n",
       "    }\n",
       "\n",
       "    .dataframe thead th {\n",
       "        text-align: right;\n",
       "    }\n",
       "</style>\n",
       "<table border=\"1\" class=\"dataframe\">\n",
       "  <thead>\n",
       "    <tr style=\"text-align: right;\">\n",
       "      <th></th>\n",
       "      <th>MonthlyCharges</th>\n",
       "      <th>TotalCharges</th>\n",
       "      <th>SeniorCitizen</th>\n",
       "      <th>AllDays</th>\n",
       "      <th>Type_One year</th>\n",
       "      <th>Type_Two year</th>\n",
       "      <th>PaperlessBilling_Yes</th>\n",
       "      <th>PaymentMethod_Credit card (automatic)</th>\n",
       "      <th>PaymentMethod_Electronic check</th>\n",
       "      <th>PaymentMethod_Mailed check</th>\n",
       "      <th>...</th>\n",
       "      <th>Partner_Yes</th>\n",
       "      <th>Dependents_Yes</th>\n",
       "      <th>InternetService_Fiber optic</th>\n",
       "      <th>InternetService_No</th>\n",
       "      <th>OnlineSecurity_Yes</th>\n",
       "      <th>OnlineBackup_Yes</th>\n",
       "      <th>DeviceProtection_Yes</th>\n",
       "      <th>TechSupport_Yes</th>\n",
       "      <th>StreamingTV_Yes</th>\n",
       "      <th>StreamingMovies_Yes</th>\n",
       "    </tr>\n",
       "    <tr>\n",
       "      <th>customerID</th>\n",
       "      <th></th>\n",
       "      <th></th>\n",
       "      <th></th>\n",
       "      <th></th>\n",
       "      <th></th>\n",
       "      <th></th>\n",
       "      <th></th>\n",
       "      <th></th>\n",
       "      <th></th>\n",
       "      <th></th>\n",
       "      <th></th>\n",
       "      <th></th>\n",
       "      <th></th>\n",
       "      <th></th>\n",
       "      <th></th>\n",
       "      <th></th>\n",
       "      <th></th>\n",
       "      <th></th>\n",
       "      <th></th>\n",
       "      <th></th>\n",
       "      <th></th>\n",
       "    </tr>\n",
       "  </thead>\n",
       "  <tbody>\n",
       "    <tr>\n",
       "      <th>1608-GMEWB</th>\n",
       "      <td>93.90</td>\n",
       "      <td>4225</td>\n",
       "      <td>1</td>\n",
       "      <td>1371</td>\n",
       "      <td>0.0</td>\n",
       "      <td>0.0</td>\n",
       "      <td>1.0</td>\n",
       "      <td>0.0</td>\n",
       "      <td>0.0</td>\n",
       "      <td>0.0</td>\n",
       "      <td>...</td>\n",
       "      <td>0.0</td>\n",
       "      <td>0.0</td>\n",
       "      <td>1.0</td>\n",
       "      <td>0.0</td>\n",
       "      <td>0.0</td>\n",
       "      <td>0.0</td>\n",
       "      <td>0.0</td>\n",
       "      <td>0.0</td>\n",
       "      <td>1.0</td>\n",
       "      <td>1.0</td>\n",
       "    </tr>\n",
       "    <tr>\n",
       "      <th>2070-FNEXE</th>\n",
       "      <td>76.45</td>\n",
       "      <td>636</td>\n",
       "      <td>1</td>\n",
       "      <td>245</td>\n",
       "      <td>0.0</td>\n",
       "      <td>0.0</td>\n",
       "      <td>0.0</td>\n",
       "      <td>0.0</td>\n",
       "      <td>0.0</td>\n",
       "      <td>0.0</td>\n",
       "      <td>...</td>\n",
       "      <td>0.0</td>\n",
       "      <td>0.0</td>\n",
       "      <td>1.0</td>\n",
       "      <td>0.0</td>\n",
       "      <td>1.0</td>\n",
       "      <td>0.0</td>\n",
       "      <td>0.0</td>\n",
       "      <td>0.0</td>\n",
       "      <td>0.0</td>\n",
       "      <td>0.0</td>\n",
       "    </tr>\n",
       "    <tr>\n",
       "      <th>3771-PZOBW</th>\n",
       "      <td>90.70</td>\n",
       "      <td>1814</td>\n",
       "      <td>0</td>\n",
       "      <td>610</td>\n",
       "      <td>0.0</td>\n",
       "      <td>0.0</td>\n",
       "      <td>1.0</td>\n",
       "      <td>1.0</td>\n",
       "      <td>0.0</td>\n",
       "      <td>0.0</td>\n",
       "      <td>...</td>\n",
       "      <td>0.0</td>\n",
       "      <td>0.0</td>\n",
       "      <td>1.0</td>\n",
       "      <td>0.0</td>\n",
       "      <td>0.0</td>\n",
       "      <td>0.0</td>\n",
       "      <td>1.0</td>\n",
       "      <td>0.0</td>\n",
       "      <td>1.0</td>\n",
       "      <td>0.0</td>\n",
       "    </tr>\n",
       "    <tr>\n",
       "      <th>2930-UOTMB</th>\n",
       "      <td>65.25</td>\n",
       "      <td>1175</td>\n",
       "      <td>0</td>\n",
       "      <td>518</td>\n",
       "      <td>0.0</td>\n",
       "      <td>0.0</td>\n",
       "      <td>0.0</td>\n",
       "      <td>1.0</td>\n",
       "      <td>0.0</td>\n",
       "      <td>0.0</td>\n",
       "      <td>...</td>\n",
       "      <td>0.0</td>\n",
       "      <td>0.0</td>\n",
       "      <td>0.0</td>\n",
       "      <td>0.0</td>\n",
       "      <td>1.0</td>\n",
       "      <td>0.0</td>\n",
       "      <td>1.0</td>\n",
       "      <td>1.0</td>\n",
       "      <td>0.0</td>\n",
       "      <td>0.0</td>\n",
       "    </tr>\n",
       "    <tr>\n",
       "      <th>2951-QOQTK</th>\n",
       "      <td>80.80</td>\n",
       "      <td>404</td>\n",
       "      <td>0</td>\n",
       "      <td>153</td>\n",
       "      <td>0.0</td>\n",
       "      <td>0.0</td>\n",
       "      <td>0.0</td>\n",
       "      <td>1.0</td>\n",
       "      <td>0.0</td>\n",
       "      <td>0.0</td>\n",
       "      <td>...</td>\n",
       "      <td>0.0</td>\n",
       "      <td>1.0</td>\n",
       "      <td>1.0</td>\n",
       "      <td>0.0</td>\n",
       "      <td>0.0</td>\n",
       "      <td>0.0</td>\n",
       "      <td>0.0</td>\n",
       "      <td>1.0</td>\n",
       "      <td>0.0</td>\n",
       "      <td>0.0</td>\n",
       "    </tr>\n",
       "  </tbody>\n",
       "</table>\n",
       "<p>5 rows × 22 columns</p>\n",
       "</div>"
      ],
      "text/plain": [
       "            MonthlyCharges  TotalCharges  SeniorCitizen  AllDays  \\\n",
       "customerID                                                         \n",
       "1608-GMEWB           93.90          4225              1     1371   \n",
       "2070-FNEXE           76.45           636              1      245   \n",
       "3771-PZOBW           90.70          1814              0      610   \n",
       "2930-UOTMB           65.25          1175              0      518   \n",
       "2951-QOQTK           80.80           404              0      153   \n",
       "\n",
       "            Type_One year  Type_Two year  PaperlessBilling_Yes  \\\n",
       "customerID                                                       \n",
       "1608-GMEWB            0.0            0.0                   1.0   \n",
       "2070-FNEXE            0.0            0.0                   0.0   \n",
       "3771-PZOBW            0.0            0.0                   1.0   \n",
       "2930-UOTMB            0.0            0.0                   0.0   \n",
       "2951-QOQTK            0.0            0.0                   0.0   \n",
       "\n",
       "            PaymentMethod_Credit card (automatic)  \\\n",
       "customerID                                          \n",
       "1608-GMEWB                                    0.0   \n",
       "2070-FNEXE                                    0.0   \n",
       "3771-PZOBW                                    1.0   \n",
       "2930-UOTMB                                    1.0   \n",
       "2951-QOQTK                                    1.0   \n",
       "\n",
       "            PaymentMethod_Electronic check  PaymentMethod_Mailed check  ...  \\\n",
       "customerID                                                              ...   \n",
       "1608-GMEWB                             0.0                         0.0  ...   \n",
       "2070-FNEXE                             0.0                         0.0  ...   \n",
       "3771-PZOBW                             0.0                         0.0  ...   \n",
       "2930-UOTMB                             0.0                         0.0  ...   \n",
       "2951-QOQTK                             0.0                         0.0  ...   \n",
       "\n",
       "            Partner_Yes  Dependents_Yes  InternetService_Fiber optic  \\\n",
       "customerID                                                             \n",
       "1608-GMEWB          0.0             0.0                          1.0   \n",
       "2070-FNEXE          0.0             0.0                          1.0   \n",
       "3771-PZOBW          0.0             0.0                          1.0   \n",
       "2930-UOTMB          0.0             0.0                          0.0   \n",
       "2951-QOQTK          0.0             1.0                          1.0   \n",
       "\n",
       "            InternetService_No  OnlineSecurity_Yes  OnlineBackup_Yes  \\\n",
       "customerID                                                             \n",
       "1608-GMEWB                 0.0                 0.0               0.0   \n",
       "2070-FNEXE                 0.0                 1.0               0.0   \n",
       "3771-PZOBW                 0.0                 0.0               0.0   \n",
       "2930-UOTMB                 0.0                 1.0               0.0   \n",
       "2951-QOQTK                 0.0                 0.0               0.0   \n",
       "\n",
       "            DeviceProtection_Yes  TechSupport_Yes  StreamingTV_Yes  \\\n",
       "customerID                                                           \n",
       "1608-GMEWB                   0.0              0.0              1.0   \n",
       "2070-FNEXE                   0.0              0.0              0.0   \n",
       "3771-PZOBW                   1.0              0.0              1.0   \n",
       "2930-UOTMB                   1.0              1.0              0.0   \n",
       "2951-QOQTK                   0.0              1.0              0.0   \n",
       "\n",
       "            StreamingMovies_Yes  \n",
       "customerID                       \n",
       "1608-GMEWB                  1.0  \n",
       "2070-FNEXE                  0.0  \n",
       "3771-PZOBW                  0.0  \n",
       "2930-UOTMB                  0.0  \n",
       "2951-QOQTK                  0.0  \n",
       "\n",
       "[5 rows x 22 columns]"
      ]
     },
     "execution_count": 46,
     "metadata": {},
     "output_type": "execute_result"
    }
   ],
   "source": [
    "features_test[\n",
    "    encoder_ohe.get_feature_names_out()\n",
    "] = encoder_ohe.transform(features_test[ohe_features_test])\n",
    "features_test = features_test.drop(ohe_features_test, axis=1)\n",
    "features_test.head()"
   ]
  },
  {
   "cell_type": "markdown",
   "id": "04323235",
   "metadata": {},
   "source": [
    "применил кодирование методом OHE"
   ]
  },
  {
   "cell_type": "code",
   "execution_count": 47,
   "id": "bcfbb4b1",
   "metadata": {},
   "outputs": [],
   "source": [
    "columns_num = ['MonthlyCharges', 'TotalCharges', 'AllDays']"
   ]
  },
  {
   "cell_type": "code",
   "execution_count": 48,
   "id": "093f8117",
   "metadata": {},
   "outputs": [
    {
     "data": {
      "text/plain": [
       "['MonthlyCharges', 'TotalCharges', 'AllDays']"
      ]
     },
     "execution_count": 48,
     "metadata": {},
     "output_type": "execute_result"
    }
   ],
   "source": [
    "columns_num"
   ]
  },
  {
   "cell_type": "code",
   "execution_count": 49,
   "id": "5e2c71fc",
   "metadata": {},
   "outputs": [],
   "source": [
    "#columns_num = features_train.select_dtypes(exclude='object').columns.to_list()\n",
    "#columns_num"
   ]
  },
  {
   "cell_type": "code",
   "execution_count": 50,
   "id": "ab912d42",
   "metadata": {},
   "outputs": [],
   "source": [
    "scaler = StandardScaler()\n",
    "scaler.fit(features_train[columns_num])\n",
    "features_train = features_train.copy()\n",
    "features_train[columns_num] = scaler.transform(features_train[columns_num])\n",
    "features_test = features_test.copy()\n",
    "features_test[columns_num] = scaler.transform(features_test[columns_num])"
   ]
  },
  {
   "cell_type": "code",
   "execution_count": 52,
   "id": "cfb6c07c",
   "metadata": {},
   "outputs": [
    {
     "name": "stdout",
     "output_type": "stream",
     "text": [
      "<class 'pandas.core.frame.DataFrame'>\n",
      "Index: 5282 entries, 5949-EBSQK to 4648-YPBTM\n",
      "Data columns (total 22 columns):\n",
      " #   Column                                 Non-Null Count  Dtype  \n",
      "---  ------                                 --------------  -----  \n",
      " 0   MonthlyCharges                         5282 non-null   float64\n",
      " 1   TotalCharges                           5282 non-null   float64\n",
      " 2   SeniorCitizen                          5282 non-null   int64  \n",
      " 3   AllDays                                5282 non-null   float64\n",
      " 4   Type_One year                          5282 non-null   float64\n",
      " 5   Type_Two year                          5282 non-null   float64\n",
      " 6   PaperlessBilling_Yes                   5282 non-null   float64\n",
      " 7   PaymentMethod_Credit card (automatic)  5282 non-null   float64\n",
      " 8   PaymentMethod_Electronic check         5282 non-null   float64\n",
      " 9   PaymentMethod_Mailed check             5282 non-null   float64\n",
      " 10  MultipleLines_Yes                      5282 non-null   float64\n",
      " 11  gender_Male                            5282 non-null   float64\n",
      " 12  Partner_Yes                            5282 non-null   float64\n",
      " 13  Dependents_Yes                         5282 non-null   float64\n",
      " 14  InternetService_Fiber optic            5282 non-null   float64\n",
      " 15  InternetService_No                     5282 non-null   float64\n",
      " 16  OnlineSecurity_Yes                     5282 non-null   float64\n",
      " 17  OnlineBackup_Yes                       5282 non-null   float64\n",
      " 18  DeviceProtection_Yes                   5282 non-null   float64\n",
      " 19  TechSupport_Yes                        5282 non-null   float64\n",
      " 20  StreamingTV_Yes                        5282 non-null   float64\n",
      " 21  StreamingMovies_Yes                    5282 non-null   float64\n",
      "dtypes: float64(21), int64(1)\n",
      "memory usage: 949.1+ KB\n"
     ]
    }
   ],
   "source": [
    "features_train.info()"
   ]
  },
  {
   "cell_type": "markdown",
   "id": "416a1a21",
   "metadata": {},
   "source": [
    "маштабировал все численные данные"
   ]
  },
  {
   "cell_type": "code",
   "execution_count": 53,
   "id": "fae265fa",
   "metadata": {},
   "outputs": [
    {
     "data": {
      "image/png": "[encoded data removed]",
      "text/plain": [
       "<Figure size 216x216 with 1 Axes>"
      ]
     },
     "metadata": {
      "needs_background": "light"
     },
     "output_type": "display_data"
    }
   ],
   "source": [
    "target_train.value_counts().plot(\n",
    "    kind='bar', \n",
    "    figsize=(3, 3), \n",
    "    legend=False, \n",
    "    title='Значение Таргета', \n",
    ").set(xlabel='Таргет', ylabel='Количество')\n",
    "plt.show()"
   ]
  },
  {
   "cell_type": "markdown",
   "id": "2103f96c",
   "metadata": {},
   "source": [
    "Наблюдаю дисбаланс класснов, метрика ROC-AUC не чувствительна к дисбалансу классов, следовательно в балансировке классов нет необходимости."
   ]
  },
  {
   "cell_type": "code",
   "execution_count": 54,
   "id": "eb6728c8",
   "metadata": {},
   "outputs": [],
   "source": [
    "#функция для расчета и построения графика ROC - Кривой\n",
    "def plot_rc(target_test, predictions):\n",
    "    fpr, tpr, thresholds = roc_curve(target_test, predictions)\n",
    "    plt.figure(figsize=(10, 4))\n",
    "    plt.plot(fpr, tpr)\n",
    "    plt.plot([0, 1], [0, 1], linestyle='--')\n",
    "    plt.xlim([0.0, 1.0])\n",
    "    plt.ylim([0.0, 1.0])\n",
    "    plt.xlabel('FP')\n",
    "    plt.ylabel('TP')\n",
    "    plt.title('ROC-Curve')\n",
    "    plt.show()\n",
    "    print('ROC-AUC score', roc_auc_score(target_test, predictions))"
   ]
  },
  {
   "cell_type": "code",
   "execution_count": 55,
   "id": "24f85d32",
   "metadata": {},
   "outputs": [
    {
     "name": "stdout",
     "output_type": "stream",
     "text": [
      "{'iterations': 200, 'l2_leaf_reg': 5, 'learning_rate': 0.3}\n",
      "0.9083807483765302\n"
     ]
    }
   ],
   "source": [
    "%%timeit\n",
    "param_grid = {\n",
    "    'learning_rate': [0.01, 0.1, 0.3],\n",
    "    'iterations': [50, 100, 200],\n",
    "    'l2_leaf_reg': [2, 5, 10, 20]\n",
    "}\n",
    "model = CatBoostClassifier(random_state=random_st, verbose = 0)\n",
    "\n",
    "search_cat = GridSearchCV(model, param_grid, cv=5, scoring='roc_auc')\n",
    "search_cat.fit(features_train, target_train)\n",
    "\n",
    "print(search_cat.best_params_)\n",
    "print(search_cat.best_score_)\n"
   ]
  },
  {
   "cell_type": "code",
   "execution_count": 2,
   "id": "d4183075",
   "metadata": {},
   "outputs": [],
   "source": [
    "param_grid = {\n",
    "    'learning_rate': [0.1, 0.01],\n",
    "    'n_estimators': [50, 100, 150],\n",
    "    'max_depth': [4, 6],\n",
    "    'colsample_bytree': [0.7, 0.8, 0.9],\n",
    "    'subsample': [0.7, 0.8, 0.9],\n",
    "    'min_child_samples': [1, 5, 10],\n",
    "    'num_threads':[1]\n",
    "    }\n",
    "model_LightGBM = lgbm.sklearn.LGBMClassifier(random_state=random_st, verbose = 0)\n",
    "search_lgb = GridSearchCV(model_LightGBM, param_grid, cv=5, scoring='roc_auc')\n",
    "search_lgb.fit(features_train, target_train)\n",
    "print(search_lgb.best_params_)\n",
    "print(search_lgb.best_score_)"
   ]
  },
  {
   "cell_type": "code",
   "execution_count": 57,
   "id": "20ccda2e",
   "metadata": {},
   "outputs": [
    {
     "data": {
      "text/html": [
       "<div>\n",
       "<style scoped>\n",
       "    .dataframe tbody tr th:only-of-type {\n",
       "        vertical-align: middle;\n",
       "    }\n",
       "\n",
       "    .dataframe tbody tr th {\n",
       "        vertical-align: top;\n",
       "    }\n",
       "\n",
       "    .dataframe thead th {\n",
       "        text-align: right;\n",
       "    }\n",
       "</style>\n",
       "<table border=\"1\" class=\"dataframe\">\n",
       "  <thead>\n",
       "    <tr style=\"text-align: right;\">\n",
       "      <th></th>\n",
       "      <th>MonthlyCharges</th>\n",
       "      <th>TotalCharges</th>\n",
       "      <th>SeniorCitizen</th>\n",
       "      <th>AllDays</th>\n",
       "      <th>Type_One year</th>\n",
       "      <th>Type_Two year</th>\n",
       "      <th>PaperlessBilling_Yes</th>\n",
       "      <th>PaymentMethod_Credit card (automatic)</th>\n",
       "      <th>PaymentMethod_Electronic check</th>\n",
       "      <th>PaymentMethod_Mailed check</th>\n",
       "      <th>...</th>\n",
       "      <th>Partner_Yes</th>\n",
       "      <th>Dependents_Yes</th>\n",
       "      <th>InternetService_Fiber optic</th>\n",
       "      <th>InternetService_No</th>\n",
       "      <th>OnlineSecurity_Yes</th>\n",
       "      <th>OnlineBackup_Yes</th>\n",
       "      <th>DeviceProtection_Yes</th>\n",
       "      <th>TechSupport_Yes</th>\n",
       "      <th>StreamingTV_Yes</th>\n",
       "      <th>StreamingMovies_Yes</th>\n",
       "    </tr>\n",
       "    <tr>\n",
       "      <th>customerID</th>\n",
       "      <th></th>\n",
       "      <th></th>\n",
       "      <th></th>\n",
       "      <th></th>\n",
       "      <th></th>\n",
       "      <th></th>\n",
       "      <th></th>\n",
       "      <th></th>\n",
       "      <th></th>\n",
       "      <th></th>\n",
       "      <th></th>\n",
       "      <th></th>\n",
       "      <th></th>\n",
       "      <th></th>\n",
       "      <th></th>\n",
       "      <th></th>\n",
       "      <th></th>\n",
       "      <th></th>\n",
       "      <th></th>\n",
       "      <th></th>\n",
       "      <th></th>\n",
       "    </tr>\n",
       "  </thead>\n",
       "  <tbody>\n",
       "    <tr>\n",
       "      <th>5949-EBSQK</th>\n",
       "      <td>-0.124626</td>\n",
       "      <td>-0.865526</td>\n",
       "      <td>0</td>\n",
       "      <td>-1.100489</td>\n",
       "      <td>0.0</td>\n",
       "      <td>0.0</td>\n",
       "      <td>0.0</td>\n",
       "      <td>1.0</td>\n",
       "      <td>0.0</td>\n",
       "      <td>0.0</td>\n",
       "      <td>...</td>\n",
       "      <td>1.0</td>\n",
       "      <td>1.0</td>\n",
       "      <td>0.0</td>\n",
       "      <td>0.0</td>\n",
       "      <td>0.0</td>\n",
       "      <td>0.0</td>\n",
       "      <td>0.0</td>\n",
       "      <td>1.0</td>\n",
       "      <td>0.0</td>\n",
       "      <td>1.0</td>\n",
       "    </tr>\n",
       "    <tr>\n",
       "      <th>4760-XOHVN</th>\n",
       "      <td>-1.517779</td>\n",
       "      <td>-0.991667</td>\n",
       "      <td>0</td>\n",
       "      <td>-1.233491</td>\n",
       "      <td>0.0</td>\n",
       "      <td>0.0</td>\n",
       "      <td>0.0</td>\n",
       "      <td>0.0</td>\n",
       "      <td>0.0</td>\n",
       "      <td>1.0</td>\n",
       "      <td>...</td>\n",
       "      <td>1.0</td>\n",
       "      <td>1.0</td>\n",
       "      <td>0.0</td>\n",
       "      <td>1.0</td>\n",
       "      <td>0.0</td>\n",
       "      <td>0.0</td>\n",
       "      <td>0.0</td>\n",
       "      <td>0.0</td>\n",
       "      <td>0.0</td>\n",
       "      <td>0.0</td>\n",
       "    </tr>\n",
       "    <tr>\n",
       "      <th>2607-FBDFF</th>\n",
       "      <td>-0.537596</td>\n",
       "      <td>-0.986509</td>\n",
       "      <td>0</td>\n",
       "      <td>-1.278800</td>\n",
       "      <td>0.0</td>\n",
       "      <td>0.0</td>\n",
       "      <td>0.0</td>\n",
       "      <td>1.0</td>\n",
       "      <td>0.0</td>\n",
       "      <td>0.0</td>\n",
       "      <td>...</td>\n",
       "      <td>0.0</td>\n",
       "      <td>0.0</td>\n",
       "      <td>0.0</td>\n",
       "      <td>0.0</td>\n",
       "      <td>0.0</td>\n",
       "      <td>0.0</td>\n",
       "      <td>0.0</td>\n",
       "      <td>1.0</td>\n",
       "      <td>0.0</td>\n",
       "      <td>0.0</td>\n",
       "    </tr>\n",
       "    <tr>\n",
       "      <th>3125-RAHBV</th>\n",
       "      <td>-1.489584</td>\n",
       "      <td>-0.796125</td>\n",
       "      <td>0</td>\n",
       "      <td>-0.343395</td>\n",
       "      <td>1.0</td>\n",
       "      <td>0.0</td>\n",
       "      <td>0.0</td>\n",
       "      <td>1.0</td>\n",
       "      <td>0.0</td>\n",
       "      <td>0.0</td>\n",
       "      <td>...</td>\n",
       "      <td>0.0</td>\n",
       "      <td>0.0</td>\n",
       "      <td>0.0</td>\n",
       "      <td>1.0</td>\n",
       "      <td>0.0</td>\n",
       "      <td>0.0</td>\n",
       "      <td>0.0</td>\n",
       "      <td>0.0</td>\n",
       "      <td>0.0</td>\n",
       "      <td>0.0</td>\n",
       "    </tr>\n",
       "    <tr>\n",
       "      <th>2829-HYVZP</th>\n",
       "      <td>-1.506169</td>\n",
       "      <td>-0.740323</td>\n",
       "      <td>0</td>\n",
       "      <td>-0.033542</td>\n",
       "      <td>1.0</td>\n",
       "      <td>0.0</td>\n",
       "      <td>1.0</td>\n",
       "      <td>0.0</td>\n",
       "      <td>0.0</td>\n",
       "      <td>1.0</td>\n",
       "      <td>...</td>\n",
       "      <td>0.0</td>\n",
       "      <td>0.0</td>\n",
       "      <td>0.0</td>\n",
       "      <td>1.0</td>\n",
       "      <td>0.0</td>\n",
       "      <td>0.0</td>\n",
       "      <td>0.0</td>\n",
       "      <td>0.0</td>\n",
       "      <td>0.0</td>\n",
       "      <td>0.0</td>\n",
       "    </tr>\n",
       "  </tbody>\n",
       "</table>\n",
       "<p>5 rows × 22 columns</p>\n",
       "</div>"
      ],
      "text/plain": [
       "            MonthlyCharges  TotalCharges  SeniorCitizen   AllDays  \\\n",
       "customerID                                                          \n",
       "5949-EBSQK       -0.124626     -0.865526              0 -1.100489   \n",
       "4760-XOHVN       -1.517779     -0.991667              0 -1.233491   \n",
       "2607-FBDFF       -0.537596     -0.986509              0 -1.278800   \n",
       "3125-RAHBV       -1.489584     -0.796125              0 -0.343395   \n",
       "2829-HYVZP       -1.506169     -0.740323              0 -0.033542   \n",
       "\n",
       "            Type_One year  Type_Two year  PaperlessBilling_Yes  \\\n",
       "customerID                                                       \n",
       "5949-EBSQK            0.0            0.0                   0.0   \n",
       "4760-XOHVN            0.0            0.0                   0.0   \n",
       "2607-FBDFF            0.0            0.0                   0.0   \n",
       "3125-RAHBV            1.0            0.0                   0.0   \n",
       "2829-HYVZP            1.0            0.0                   1.0   \n",
       "\n",
       "            PaymentMethod_Credit card (automatic)  \\\n",
       "customerID                                          \n",
       "5949-EBSQK                                    1.0   \n",
       "4760-XOHVN                                    0.0   \n",
       "2607-FBDFF                                    1.0   \n",
       "3125-RAHBV                                    1.0   \n",
       "2829-HYVZP                                    0.0   \n",
       "\n",
       "            PaymentMethod_Electronic check  PaymentMethod_Mailed check  ...  \\\n",
       "customerID                                                              ...   \n",
       "5949-EBSQK                             0.0                         0.0  ...   \n",
       "4760-XOHVN                             0.0                         1.0  ...   \n",
       "2607-FBDFF                             0.0                         0.0  ...   \n",
       "3125-RAHBV                             0.0                         0.0  ...   \n",
       "2829-HYVZP                             0.0                         1.0  ...   \n",
       "\n",
       "            Partner_Yes  Dependents_Yes  InternetService_Fiber optic  \\\n",
       "customerID                                                             \n",
       "5949-EBSQK          1.0             1.0                          0.0   \n",
       "4760-XOHVN          1.0             1.0                          0.0   \n",
       "2607-FBDFF          0.0             0.0                          0.0   \n",
       "3125-RAHBV          0.0             0.0                          0.0   \n",
       "2829-HYVZP          0.0             0.0                          0.0   \n",
       "\n",
       "            InternetService_No  OnlineSecurity_Yes  OnlineBackup_Yes  \\\n",
       "customerID                                                             \n",
       "5949-EBSQK                 0.0                 0.0               0.0   \n",
       "4760-XOHVN                 1.0                 0.0               0.0   \n",
       "2607-FBDFF                 0.0                 0.0               0.0   \n",
       "3125-RAHBV                 1.0                 0.0               0.0   \n",
       "2829-HYVZP                 1.0                 0.0               0.0   \n",
       "\n",
       "            DeviceProtection_Yes  TechSupport_Yes  StreamingTV_Yes  \\\n",
       "customerID                                                           \n",
       "5949-EBSQK                   0.0              1.0              0.0   \n",
       "4760-XOHVN                   0.0              0.0              0.0   \n",
       "2607-FBDFF                   0.0              1.0              0.0   \n",
       "3125-RAHBV                   0.0              0.0              0.0   \n",
       "2829-HYVZP                   0.0              0.0              0.0   \n",
       "\n",
       "            StreamingMovies_Yes  \n",
       "customerID                       \n",
       "5949-EBSQK                  1.0  \n",
       "4760-XOHVN                  0.0  \n",
       "2607-FBDFF                  0.0  \n",
       "3125-RAHBV                  0.0  \n",
       "2829-HYVZP                  0.0  \n",
       "\n",
       "[5 rows x 22 columns]"
      ]
     },
     "execution_count": 57,
     "metadata": {},
     "output_type": "execute_result"
    }
   ],
   "source": [
    "features_train.head()"
   ]
  },
  {
   "cell_type": "markdown",
   "id": "15dda55a",
   "metadata": {},
   "source": [
    "По рузультатам кросвалидации лучшая модеть у CatBoost, проведу проверку на тестовой выборке"
   ]
  },
  {
   "cell_type": "code",
   "execution_count": 58,
   "id": "2b9c3b6e",
   "metadata": {},
   "outputs": [
    {
     "data": {
      "image/png": "[encoded data removed]",
      "text/plain": [
       "<Figure size 720x288 with 1 Axes>"
      ]
     },
     "metadata": {
      "needs_background": "light"
     },
     "output_type": "display_data"
    },
    {
     "name": "stdout",
     "output_type": "stream",
     "text": [
      "ROC-AUC score 0.8985035617280788\n"
     ]
    }
   ],
   "source": [
    "predicted_probalities_cat = search_cat.best_estimator_.predict_proba(features_test)[:, 1]\n",
    "plot_rc(target_test, predicted_probalities_cat)"
   ]
  },
  {
   "cell_type": "code",
   "execution_count": 59,
   "id": "cb5042fd",
   "metadata": {},
   "outputs": [
    {
     "name": "stdout",
     "output_type": "stream",
     "text": [
      "Confusion matrix, without normalization\n",
      "[[1483   18]\n",
      " [ 119  141]]\n"
     ]
    },
    {
     "data": {
      "image/png": "[encoded data removed]",
      "text/plain": [
       "<Figure size 720x576 with 2 Axes>"
      ]
     },
     "metadata": {
      "needs_background": "light"
     },
     "output_type": "display_data"
    }
   ],
   "source": [
    "def plot_confusion_matrix(cm, classes,\n",
    "                          normalize=False,\n",
    "                          title='Confusion matrix',\n",
    "                          cmap=plt.cm.Blues):\n",
    " \n",
    "    plt.imshow(cm, interpolation='nearest', cmap=cmap)\n",
    "    plt.title(title)\n",
    "    plt.colorbar()\n",
    "    tick_marks = np.arange(len(classes))\n",
    "    plt.xticks(tick_marks, classes, rotation=45)\n",
    "    plt.yticks(tick_marks, classes)\n",
    "\n",
    "    if normalize:\n",
    "        cm = cm.astype('float') / cm.sum(axis=1)[:, np.newaxis]\n",
    "        print(\"Normalized confusion matrix\")\n",
    "    else:\n",
    "        print('Confusion matrix, without normalization')\n",
    "\n",
    "    print(cm)\n",
    "\n",
    "    thresh = cm.max() / 2.\n",
    "    for i, j in itertools.product(range(cm.shape[0]), range(cm.shape[1])):\n",
    "        plt.text(j, i, cm[i, j],\n",
    "                 horizontalalignment=\"center\",\n",
    "                 color=\"white\" if cm[i, j] > thresh else \"black\")\n",
    "\n",
    "    plt.tight_layout()\n",
    "    plt.ylabel('True label')\n",
    "    plt.xlabel('Predicted label')\n",
    "\n",
    "font = {'size' : 15}\n",
    "\n",
    "plt.rc('font', **font)\n",
    "\n",
    "cnf_matrix = confusion_matrix(target_test, search_cat.predict(features_test))\n",
    "plt.figure(figsize=(10, 8))\n",
    "plot_confusion_matrix(cnf_matrix, classes=['Non-churned', 'Churned'],\n",
    "                      title='Confusion matrix')\n",
    "\n",
    "plt.show()"
   ]
  },
  {
   "cell_type": "code",
   "execution_count": 60,
   "id": "75e3bbfd",
   "metadata": {},
   "outputs": [
    {
     "data": {
      "text/html": [
       "<div>\n",
       "<style scoped>\n",
       "    .dataframe tbody tr th:only-of-type {\n",
       "        vertical-align: middle;\n",
       "    }\n",
       "\n",
       "    .dataframe tbody tr th {\n",
       "        vertical-align: top;\n",
       "    }\n",
       "\n",
       "    .dataframe thead th {\n",
       "        text-align: right;\n",
       "    }\n",
       "</style>\n",
       "<table border=\"1\" class=\"dataframe\">\n",
       "  <thead>\n",
       "    <tr style=\"text-align: right;\">\n",
       "      <th></th>\n",
       "      <th>MonthlyCharges</th>\n",
       "      <th>TotalCharges</th>\n",
       "      <th>SeniorCitizen</th>\n",
       "      <th>AllDays</th>\n",
       "      <th>Type_One year</th>\n",
       "      <th>Type_Two year</th>\n",
       "      <th>PaperlessBilling_Yes</th>\n",
       "      <th>PaymentMethod_Credit card (automatic)</th>\n",
       "      <th>PaymentMethod_Electronic check</th>\n",
       "      <th>PaymentMethod_Mailed check</th>\n",
       "      <th>...</th>\n",
       "      <th>Partner_Yes</th>\n",
       "      <th>Dependents_Yes</th>\n",
       "      <th>InternetService_Fiber optic</th>\n",
       "      <th>InternetService_No</th>\n",
       "      <th>OnlineSecurity_Yes</th>\n",
       "      <th>OnlineBackup_Yes</th>\n",
       "      <th>DeviceProtection_Yes</th>\n",
       "      <th>TechSupport_Yes</th>\n",
       "      <th>StreamingTV_Yes</th>\n",
       "      <th>StreamingMovies_Yes</th>\n",
       "    </tr>\n",
       "    <tr>\n",
       "      <th>customerID</th>\n",
       "      <th></th>\n",
       "      <th></th>\n",
       "      <th></th>\n",
       "      <th></th>\n",
       "      <th></th>\n",
       "      <th></th>\n",
       "      <th></th>\n",
       "      <th></th>\n",
       "      <th></th>\n",
       "      <th></th>\n",
       "      <th></th>\n",
       "      <th></th>\n",
       "      <th></th>\n",
       "      <th></th>\n",
       "      <th></th>\n",
       "      <th></th>\n",
       "      <th></th>\n",
       "      <th></th>\n",
       "      <th></th>\n",
       "      <th></th>\n",
       "      <th></th>\n",
       "    </tr>\n",
       "  </thead>\n",
       "  <tbody>\n",
       "    <tr>\n",
       "      <th>5949-EBSQK</th>\n",
       "      <td>-0.124626</td>\n",
       "      <td>-0.865526</td>\n",
       "      <td>0</td>\n",
       "      <td>-1.100489</td>\n",
       "      <td>0.0</td>\n",
       "      <td>0.0</td>\n",
       "      <td>0.0</td>\n",
       "      <td>1.0</td>\n",
       "      <td>0.0</td>\n",
       "      <td>0.0</td>\n",
       "      <td>...</td>\n",
       "      <td>1.0</td>\n",
       "      <td>1.0</td>\n",
       "      <td>0.0</td>\n",
       "      <td>0.0</td>\n",
       "      <td>0.0</td>\n",
       "      <td>0.0</td>\n",
       "      <td>0.0</td>\n",
       "      <td>1.0</td>\n",
       "      <td>0.0</td>\n",
       "      <td>1.0</td>\n",
       "    </tr>\n",
       "    <tr>\n",
       "      <th>4760-XOHVN</th>\n",
       "      <td>-1.517779</td>\n",
       "      <td>-0.991667</td>\n",
       "      <td>0</td>\n",
       "      <td>-1.233491</td>\n",
       "      <td>0.0</td>\n",
       "      <td>0.0</td>\n",
       "      <td>0.0</td>\n",
       "      <td>0.0</td>\n",
       "      <td>0.0</td>\n",
       "      <td>1.0</td>\n",
       "      <td>...</td>\n",
       "      <td>1.0</td>\n",
       "      <td>1.0</td>\n",
       "      <td>0.0</td>\n",
       "      <td>1.0</td>\n",
       "      <td>0.0</td>\n",
       "      <td>0.0</td>\n",
       "      <td>0.0</td>\n",
       "      <td>0.0</td>\n",
       "      <td>0.0</td>\n",
       "      <td>0.0</td>\n",
       "    </tr>\n",
       "    <tr>\n",
       "      <th>2607-FBDFF</th>\n",
       "      <td>-0.537596</td>\n",
       "      <td>-0.986509</td>\n",
       "      <td>0</td>\n",
       "      <td>-1.278800</td>\n",
       "      <td>0.0</td>\n",
       "      <td>0.0</td>\n",
       "      <td>0.0</td>\n",
       "      <td>1.0</td>\n",
       "      <td>0.0</td>\n",
       "      <td>0.0</td>\n",
       "      <td>...</td>\n",
       "      <td>0.0</td>\n",
       "      <td>0.0</td>\n",
       "      <td>0.0</td>\n",
       "      <td>0.0</td>\n",
       "      <td>0.0</td>\n",
       "      <td>0.0</td>\n",
       "      <td>0.0</td>\n",
       "      <td>1.0</td>\n",
       "      <td>0.0</td>\n",
       "      <td>0.0</td>\n",
       "    </tr>\n",
       "    <tr>\n",
       "      <th>3125-RAHBV</th>\n",
       "      <td>-1.489584</td>\n",
       "      <td>-0.796125</td>\n",
       "      <td>0</td>\n",
       "      <td>-0.343395</td>\n",
       "      <td>1.0</td>\n",
       "      <td>0.0</td>\n",
       "      <td>0.0</td>\n",
       "      <td>1.0</td>\n",
       "      <td>0.0</td>\n",
       "      <td>0.0</td>\n",
       "      <td>...</td>\n",
       "      <td>0.0</td>\n",
       "      <td>0.0</td>\n",
       "      <td>0.0</td>\n",
       "      <td>1.0</td>\n",
       "      <td>0.0</td>\n",
       "      <td>0.0</td>\n",
       "      <td>0.0</td>\n",
       "      <td>0.0</td>\n",
       "      <td>0.0</td>\n",
       "      <td>0.0</td>\n",
       "    </tr>\n",
       "    <tr>\n",
       "      <th>2829-HYVZP</th>\n",
       "      <td>-1.506169</td>\n",
       "      <td>-0.740323</td>\n",
       "      <td>0</td>\n",
       "      <td>-0.033542</td>\n",
       "      <td>1.0</td>\n",
       "      <td>0.0</td>\n",
       "      <td>1.0</td>\n",
       "      <td>0.0</td>\n",
       "      <td>0.0</td>\n",
       "      <td>1.0</td>\n",
       "      <td>...</td>\n",
       "      <td>0.0</td>\n",
       "      <td>0.0</td>\n",
       "      <td>0.0</td>\n",
       "      <td>1.0</td>\n",
       "      <td>0.0</td>\n",
       "      <td>0.0</td>\n",
       "      <td>0.0</td>\n",
       "      <td>0.0</td>\n",
       "      <td>0.0</td>\n",
       "      <td>0.0</td>\n",
       "    </tr>\n",
       "    <tr>\n",
       "      <th>...</th>\n",
       "      <td>...</td>\n",
       "      <td>...</td>\n",
       "      <td>...</td>\n",
       "      <td>...</td>\n",
       "      <td>...</td>\n",
       "      <td>...</td>\n",
       "      <td>...</td>\n",
       "      <td>...</td>\n",
       "      <td>...</td>\n",
       "      <td>...</td>\n",
       "      <td>...</td>\n",
       "      <td>...</td>\n",
       "      <td>...</td>\n",
       "      <td>...</td>\n",
       "      <td>...</td>\n",
       "      <td>...</td>\n",
       "      <td>...</td>\n",
       "      <td>...</td>\n",
       "      <td>...</td>\n",
       "      <td>...</td>\n",
       "      <td>...</td>\n",
       "    </tr>\n",
       "    <tr>\n",
       "      <th>1830-IPXVJ</th>\n",
       "      <td>-1.507827</td>\n",
       "      <td>-0.444899</td>\n",
       "      <td>0</td>\n",
       "      <td>1.390027</td>\n",
       "      <td>0.0</td>\n",
       "      <td>1.0</td>\n",
       "      <td>0.0</td>\n",
       "      <td>1.0</td>\n",
       "      <td>0.0</td>\n",
       "      <td>0.0</td>\n",
       "      <td>...</td>\n",
       "      <td>1.0</td>\n",
       "      <td>1.0</td>\n",
       "      <td>0.0</td>\n",
       "      <td>1.0</td>\n",
       "      <td>0.0</td>\n",
       "      <td>0.0</td>\n",
       "      <td>0.0</td>\n",
       "      <td>0.0</td>\n",
       "      <td>0.0</td>\n",
       "      <td>0.0</td>\n",
       "    </tr>\n",
       "    <tr>\n",
       "      <th>3621-CEOVK</th>\n",
       "      <td>1.160724</td>\n",
       "      <td>-0.138690</td>\n",
       "      <td>1</td>\n",
       "      <td>-0.521707</td>\n",
       "      <td>0.0</td>\n",
       "      <td>0.0</td>\n",
       "      <td>1.0</td>\n",
       "      <td>0.0</td>\n",
       "      <td>1.0</td>\n",
       "      <td>0.0</td>\n",
       "      <td>...</td>\n",
       "      <td>1.0</td>\n",
       "      <td>0.0</td>\n",
       "      <td>1.0</td>\n",
       "      <td>0.0</td>\n",
       "      <td>0.0</td>\n",
       "      <td>1.0</td>\n",
       "      <td>0.0</td>\n",
       "      <td>0.0</td>\n",
       "      <td>1.0</td>\n",
       "      <td>1.0</td>\n",
       "    </tr>\n",
       "    <tr>\n",
       "      <th>6582-PLFUU</th>\n",
       "      <td>-1.514462</td>\n",
       "      <td>-0.541967</td>\n",
       "      <td>0</td>\n",
       "      <td>0.945710</td>\n",
       "      <td>0.0</td>\n",
       "      <td>1.0</td>\n",
       "      <td>0.0</td>\n",
       "      <td>1.0</td>\n",
       "      <td>0.0</td>\n",
       "      <td>0.0</td>\n",
       "      <td>...</td>\n",
       "      <td>1.0</td>\n",
       "      <td>1.0</td>\n",
       "      <td>0.0</td>\n",
       "      <td>1.0</td>\n",
       "      <td>0.0</td>\n",
       "      <td>0.0</td>\n",
       "      <td>0.0</td>\n",
       "      <td>0.0</td>\n",
       "      <td>0.0</td>\n",
       "      <td>0.0</td>\n",
       "    </tr>\n",
       "    <tr>\n",
       "      <th>2257-BOVXD</th>\n",
       "      <td>0.046201</td>\n",
       "      <td>-0.563537</td>\n",
       "      <td>0</td>\n",
       "      <td>-0.700018</td>\n",
       "      <td>0.0</td>\n",
       "      <td>0.0</td>\n",
       "      <td>1.0</td>\n",
       "      <td>1.0</td>\n",
       "      <td>0.0</td>\n",
       "      <td>0.0</td>\n",
       "      <td>...</td>\n",
       "      <td>1.0</td>\n",
       "      <td>0.0</td>\n",
       "      <td>0.0</td>\n",
       "      <td>0.0</td>\n",
       "      <td>0.0</td>\n",
       "      <td>0.0</td>\n",
       "      <td>0.0</td>\n",
       "      <td>1.0</td>\n",
       "      <td>1.0</td>\n",
       "      <td>0.0</td>\n",
       "    </tr>\n",
       "    <tr>\n",
       "      <th>4648-YPBTM</th>\n",
       "      <td>0.288345</td>\n",
       "      <td>0.826829</td>\n",
       "      <td>0</td>\n",
       "      <td>1.034866</td>\n",
       "      <td>0.0</td>\n",
       "      <td>1.0</td>\n",
       "      <td>1.0</td>\n",
       "      <td>0.0</td>\n",
       "      <td>0.0</td>\n",
       "      <td>0.0</td>\n",
       "      <td>...</td>\n",
       "      <td>0.0</td>\n",
       "      <td>0.0</td>\n",
       "      <td>0.0</td>\n",
       "      <td>0.0</td>\n",
       "      <td>0.0</td>\n",
       "      <td>1.0</td>\n",
       "      <td>1.0</td>\n",
       "      <td>1.0</td>\n",
       "      <td>0.0</td>\n",
       "      <td>1.0</td>\n",
       "    </tr>\n",
       "  </tbody>\n",
       "</table>\n",
       "<p>5282 rows × 22 columns</p>\n",
       "</div>"
      ],
      "text/plain": [
       "            MonthlyCharges  TotalCharges  SeniorCitizen   AllDays  \\\n",
       "customerID                                                          \n",
       "5949-EBSQK       -0.124626     -0.865526              0 -1.100489   \n",
       "4760-XOHVN       -1.517779     -0.991667              0 -1.233491   \n",
       "2607-FBDFF       -0.537596     -0.986509              0 -1.278800   \n",
       "3125-RAHBV       -1.489584     -0.796125              0 -0.343395   \n",
       "2829-HYVZP       -1.506169     -0.740323              0 -0.033542   \n",
       "...                    ...           ...            ...       ...   \n",
       "1830-IPXVJ       -1.507827     -0.444899              0  1.390027   \n",
       "3621-CEOVK        1.160724     -0.138690              1 -0.521707   \n",
       "6582-PLFUU       -1.514462     -0.541967              0  0.945710   \n",
       "2257-BOVXD        0.046201     -0.563537              0 -0.700018   \n",
       "4648-YPBTM        0.288345      0.826829              0  1.034866   \n",
       "\n",
       "            Type_One year  Type_Two year  PaperlessBilling_Yes  \\\n",
       "customerID                                                       \n",
       "5949-EBSQK            0.0            0.0                   0.0   \n",
       "4760-XOHVN            0.0            0.0                   0.0   \n",
       "2607-FBDFF            0.0            0.0                   0.0   \n",
       "3125-RAHBV            1.0            0.0                   0.0   \n",
       "2829-HYVZP            1.0            0.0                   1.0   \n",
       "...                   ...            ...                   ...   \n",
       "1830-IPXVJ            0.0            1.0                   0.0   \n",
       "3621-CEOVK            0.0            0.0                   1.0   \n",
       "6582-PLFUU            0.0            1.0                   0.0   \n",
       "2257-BOVXD            0.0            0.0                   1.0   \n",
       "4648-YPBTM            0.0            1.0                   1.0   \n",
       "\n",
       "            PaymentMethod_Credit card (automatic)  \\\n",
       "customerID                                          \n",
       "5949-EBSQK                                    1.0   \n",
       "4760-XOHVN                                    0.0   \n",
       "2607-FBDFF                                    1.0   \n",
       "3125-RAHBV                                    1.0   \n",
       "2829-HYVZP                                    0.0   \n",
       "...                                           ...   \n",
       "1830-IPXVJ                                    1.0   \n",
       "3621-CEOVK                                    0.0   \n",
       "6582-PLFUU                                    1.0   \n",
       "2257-BOVXD                                    1.0   \n",
       "4648-YPBTM                                    0.0   \n",
       "\n",
       "            PaymentMethod_Electronic check  PaymentMethod_Mailed check  ...  \\\n",
       "customerID                                                              ...   \n",
       "5949-EBSQK                             0.0                         0.0  ...   \n",
       "4760-XOHVN                             0.0                         1.0  ...   \n",
       "2607-FBDFF                             0.0                         0.0  ...   \n",
       "3125-RAHBV                             0.0                         0.0  ...   \n",
       "2829-HYVZP                             0.0                         1.0  ...   \n",
       "...                                    ...                         ...  ...   \n",
       "1830-IPXVJ                             0.0                         0.0  ...   \n",
       "3621-CEOVK                             1.0                         0.0  ...   \n",
       "6582-PLFUU                             0.0                         0.0  ...   \n",
       "2257-BOVXD                             0.0                         0.0  ...   \n",
       "4648-YPBTM                             0.0                         0.0  ...   \n",
       "\n",
       "            Partner_Yes  Dependents_Yes  InternetService_Fiber optic  \\\n",
       "customerID                                                             \n",
       "5949-EBSQK          1.0             1.0                          0.0   \n",
       "4760-XOHVN          1.0             1.0                          0.0   \n",
       "2607-FBDFF          0.0             0.0                          0.0   \n",
       "3125-RAHBV          0.0             0.0                          0.0   \n",
       "2829-HYVZP          0.0             0.0                          0.0   \n",
       "...                 ...             ...                          ...   \n",
       "1830-IPXVJ          1.0             1.0                          0.0   \n",
       "3621-CEOVK          1.0             0.0                          1.0   \n",
       "6582-PLFUU          1.0             1.0                          0.0   \n",
       "2257-BOVXD          1.0             0.0                          0.0   \n",
       "4648-YPBTM          0.0             0.0                          0.0   \n",
       "\n",
       "            InternetService_No  OnlineSecurity_Yes  OnlineBackup_Yes  \\\n",
       "customerID                                                             \n",
       "5949-EBSQK                 0.0                 0.0               0.0   \n",
       "4760-XOHVN                 1.0                 0.0               0.0   \n",
       "2607-FBDFF                 0.0                 0.0               0.0   \n",
       "3125-RAHBV                 1.0                 0.0               0.0   \n",
       "2829-HYVZP                 1.0                 0.0               0.0   \n",
       "...                        ...                 ...               ...   \n",
       "1830-IPXVJ                 1.0                 0.0               0.0   \n",
       "3621-CEOVK                 0.0                 0.0               1.0   \n",
       "6582-PLFUU                 1.0                 0.0               0.0   \n",
       "2257-BOVXD                 0.0                 0.0               0.0   \n",
       "4648-YPBTM                 0.0                 0.0               1.0   \n",
       "\n",
       "            DeviceProtection_Yes  TechSupport_Yes  StreamingTV_Yes  \\\n",
       "customerID                                                           \n",
       "5949-EBSQK                   0.0              1.0              0.0   \n",
       "4760-XOHVN                   0.0              0.0              0.0   \n",
       "2607-FBDFF                   0.0              1.0              0.0   \n",
       "3125-RAHBV                   0.0              0.0              0.0   \n",
       "2829-HYVZP                   0.0              0.0              0.0   \n",
       "...                          ...              ...              ...   \n",
       "1830-IPXVJ                   0.0              0.0              0.0   \n",
       "3621-CEOVK                   0.0              0.0              1.0   \n",
       "6582-PLFUU                   0.0              0.0              0.0   \n",
       "2257-BOVXD                   0.0              1.0              1.0   \n",
       "4648-YPBTM                   1.0              1.0              0.0   \n",
       "\n",
       "            StreamingMovies_Yes  \n",
       "customerID                       \n",
       "5949-EBSQK                  1.0  \n",
       "4760-XOHVN                  0.0  \n",
       "2607-FBDFF                  0.0  \n",
       "3125-RAHBV                  0.0  \n",
       "2829-HYVZP                  0.0  \n",
       "...                         ...  \n",
       "1830-IPXVJ                  0.0  \n",
       "3621-CEOVK                  1.0  \n",
       "6582-PLFUU                  0.0  \n",
       "2257-BOVXD                  0.0  \n",
       "4648-YPBTM                  1.0  \n",
       "\n",
       "[5282 rows x 22 columns]"
      ]
     },
     "execution_count": 60,
     "metadata": {},
     "output_type": "execute_result"
    }
   ],
   "source": [
    "features_train"
   ]
  },
  {
   "cell_type": "markdown",
   "id": "71ede77e",
   "metadata": {},
   "source": [
    "# Отчет по проекту"
   ]
  },
  {
   "cell_type": "markdown",
   "id": "b0187995",
   "metadata": {},
   "source": [
    "Основная задача проекта была в необходимости для оператора связи построить модель машинного обучения которая сможет предсказывать с высокой вероятностью  перестанет ли пользоваться клиент услугами Оператора связи «Ниединогоразрыва.ком» или нет.\n",
    "В ходе проекта были выполнены следующие ключевые шаги:\n",
    "-  Предобработка данных в которую входили ознакомление с датафреймами, изменение типа данных, били обнаружены неявные пропуски, которые были обработаны.\n",
    "- Был проведен Исследовательский анализ данных (EDA) в котором были обнаружены различные инсайды которые более детально были описаны в ходе выполнения 2 части проекта, датафреймы были объедены в один датафрейм, так же был этап фичинг инжиниринга.\n",
    "- Был определен целевой признак ['churn'], который определяет отказался ли клиент  от услуг оператора связи «Ниединогоразрыва.ком» \n",
    "- Был определен признак ['AllDays'] который определяет сколько времени клиент пользовался услугами оператора связи «Ниединогоразрыва.ком»\n",
    "- Далее произвел подготовку данных к обучению,  разделил выборки на обучающую и тестовую, использовал кодирование методом OneHotEncoder и масштабировал количественные признаки.\n",
    "-После определил использовать 2  модели градиентного-бустинга, а именно CatBoostClassifier и LGBMClassifier, были определенны следующие «фичи» MonthlyCharges, TotalCharges, SeniorCitizen,\tAllDays, Type One year,  Type_Two year, PaperlessBilling_Yes, PaymentMethod_Credit card (automatic), PaymentMethod_Electronic check, PaymentMethod_Mailed check, MultipleLines_Yes , gender_Male  , Partner_Yes, Dependents_Yes, \tInternetService_Fiber optic, InternetService_No, OnlineSecurity_Yes,\tOnlineBackup_Yes,\tDeviceProtection_Yes,\tTechSupport_Yes, StreamingTV_Yes,\tStreamingMovies_Yes\n",
    "-По результатам кроссвалидации была выбрана лучшая модель CatBoostClassifier с гиперпараметрами  iterations': 200, 'l2_leaf_reg': 5, 'learning_rate': 0.3 показав результат на кроссвалидации 0.90, далее была проведена оценка модели на тестовой выборке где результат ROC-AUC score составил 0.89, что удовлетворяет условиям проекта.\n"
   ]
  }
 ],
 "metadata": {
  "ExecuteTimeLog": [
   {
    "duration": 2058,
    "start_time": "2023-06-07T18:24:33.535Z"
   },
   {
    "duration": 485,
    "start_time": "2023-06-07T18:24:35.595Z"
   },
   {
    "duration": 18,
    "start_time": "2023-06-07T18:24:36.082Z"
   },
   {
    "duration": 26,
    "start_time": "2023-06-07T18:24:36.102Z"
   },
   {
    "duration": 17,
    "start_time": "2023-06-07T18:24:36.130Z"
   },
   {
    "duration": 23,
    "start_time": "2023-06-07T18:24:36.149Z"
   },
   {
    "duration": 18,
    "start_time": "2023-06-07T18:24:36.174Z"
   },
   {
    "duration": 14,
    "start_time": "2023-06-07T18:24:36.194Z"
   },
   {
    "duration": 16,
    "start_time": "2023-06-07T18:24:36.210Z"
   },
   {
    "duration": 26,
    "start_time": "2023-06-07T18:24:36.228Z"
   },
   {
    "duration": 20,
    "start_time": "2023-06-07T18:24:36.256Z"
   },
   {
    "duration": 1912,
    "start_time": "2023-06-12T06:51:01.404Z"
   },
   {
    "duration": 482,
    "start_time": "2023-06-12T06:51:03.318Z"
   },
   {
    "duration": 16,
    "start_time": "2023-06-12T06:51:03.801Z"
   },
   {
    "duration": 31,
    "start_time": "2023-06-12T06:51:03.819Z"
   },
   {
    "duration": 18,
    "start_time": "2023-06-12T06:51:03.852Z"
   },
   {
    "duration": 26,
    "start_time": "2023-06-12T06:51:03.872Z"
   },
   {
    "duration": 43,
    "start_time": "2023-06-12T06:51:03.900Z"
   },
   {
    "duration": 16,
    "start_time": "2023-06-12T06:51:03.945Z"
   },
   {
    "duration": 40,
    "start_time": "2023-06-12T06:51:03.962Z"
   },
   {
    "duration": 55,
    "start_time": "2023-06-12T06:51:04.005Z"
   },
   {
    "duration": 23,
    "start_time": "2023-06-12T06:51:04.062Z"
   },
   {
    "duration": 14,
    "start_time": "2023-06-12T06:51:04.087Z"
   },
   {
    "duration": 43,
    "start_time": "2023-06-12T06:51:04.103Z"
   },
   {
    "duration": 41,
    "start_time": "2023-06-12T06:51:04.149Z"
   },
   {
    "duration": 33,
    "start_time": "2023-06-12T06:51:04.193Z"
   },
   {
    "duration": 35,
    "start_time": "2023-06-12T06:51:04.228Z"
   },
   {
    "duration": 42,
    "start_time": "2023-06-12T06:51:04.265Z"
   },
   {
    "duration": 23,
    "start_time": "2023-06-12T06:51:04.309Z"
   },
   {
    "duration": 33,
    "start_time": "2023-06-12T06:51:04.334Z"
   },
   {
    "duration": 7,
    "start_time": "2023-06-12T06:51:04.369Z"
   },
   {
    "duration": 21,
    "start_time": "2023-06-12T06:51:04.377Z"
   },
   {
    "duration": 172,
    "start_time": "2023-06-12T06:51:04.400Z"
   },
   {
    "duration": 38,
    "start_time": "2023-06-12T06:51:04.574Z"
   },
   {
    "duration": 144,
    "start_time": "2023-06-12T06:51:04.614Z"
   },
   {
    "duration": 38,
    "start_time": "2023-06-12T06:51:04.759Z"
   },
   {
    "duration": 160,
    "start_time": "2023-06-12T06:51:04.799Z"
   },
   {
    "duration": 51,
    "start_time": "2023-06-12T06:51:04.961Z"
   },
   {
    "duration": 193,
    "start_time": "2023-06-12T06:51:05.017Z"
   },
   {
    "duration": 51,
    "start_time": "2023-06-12T06:51:05.212Z"
   },
   {
    "duration": 332,
    "start_time": "2023-06-12T06:51:05.265Z"
   },
   {
    "duration": 20,
    "start_time": "2023-06-12T06:51:05.599Z"
   },
   {
    "duration": 180,
    "start_time": "2023-06-12T06:51:05.621Z"
   },
   {
    "duration": 158,
    "start_time": "2023-06-12T06:51:05.802Z"
   },
   {
    "duration": 26,
    "start_time": "2023-06-12T06:51:05.962Z"
   },
   {
    "duration": 984,
    "start_time": "2023-06-12T06:51:05.990Z"
   },
   {
    "duration": 6,
    "start_time": "2023-06-12T06:51:06.976Z"
   },
   {
    "duration": 4,
    "start_time": "2023-06-12T06:51:06.984Z"
   },
   {
    "duration": 12,
    "start_time": "2023-06-12T06:51:06.990Z"
   },
   {
    "duration": 8,
    "start_time": "2023-06-12T06:51:07.003Z"
   },
   {
    "duration": 9,
    "start_time": "2023-06-12T06:51:07.013Z"
   },
   {
    "duration": 11,
    "start_time": "2023-06-12T06:51:07.024Z"
   },
   {
    "duration": 36,
    "start_time": "2023-06-12T06:51:07.037Z"
   },
   {
    "duration": 3,
    "start_time": "2023-06-12T06:51:07.075Z"
   },
   {
    "duration": 24,
    "start_time": "2023-06-12T06:51:07.079Z"
   },
   {
    "duration": 100,
    "start_time": "2023-06-12T06:51:07.105Z"
   },
   {
    "duration": 4,
    "start_time": "2023-06-12T06:51:07.207Z"
   },
   {
    "duration": 17,
    "start_time": "2023-06-12T06:51:07.213Z"
   },
   {
    "duration": 89,
    "start_time": "2023-06-12T06:51:07.241Z"
   },
   {
    "duration": 13,
    "start_time": "2023-06-12T06:51:07.332Z"
   },
   {
    "duration": 199263,
    "start_time": "2023-06-12T06:51:07.346Z"
   },
   {
    "duration": 124,
    "start_time": "2023-06-12T06:54:26.611Z"
   },
   {
    "duration": 204674,
    "start_time": "2023-06-12T06:54:26.737Z"
   },
   {
    "duration": 146,
    "start_time": "2023-06-12T06:57:51.413Z"
   },
   {
    "duration": 39490,
    "start_time": "2023-06-12T06:57:51.561Z"
   },
   {
    "duration": 316,
    "start_time": "2023-06-12T06:58:31.143Z"
   },
   {
    "duration": 489,
    "start_time": "2023-06-12T06:58:31.461Z"
   },
   {
    "duration": 13,
    "start_time": "2023-06-12T07:08:16.920Z"
   },
   {
    "duration": 431,
    "start_time": "2023-06-12T07:09:49.912Z"
   },
   {
    "duration": 121,
    "start_time": "2023-06-12T07:11:15.688Z"
   },
   {
    "duration": 365,
    "start_time": "2023-06-12T07:12:21.999Z"
   },
   {
    "duration": 363,
    "start_time": "2023-06-12T07:12:49.365Z"
   },
   {
    "duration": 18,
    "start_time": "2023-06-12T07:16:32.547Z"
   },
   {
    "duration": 1676,
    "start_time": "2023-06-12T18:51:25.340Z"
   },
   {
    "duration": 0,
    "start_time": "2023-06-12T18:51:27.018Z"
   },
   {
    "duration": 0,
    "start_time": "2023-06-12T18:51:27.020Z"
   },
   {
    "duration": 0,
    "start_time": "2023-06-12T18:51:27.021Z"
   },
   {
    "duration": 0,
    "start_time": "2023-06-12T18:51:27.022Z"
   },
   {
    "duration": 0,
    "start_time": "2023-06-12T18:51:27.023Z"
   },
   {
    "duration": 0,
    "start_time": "2023-06-12T18:51:27.024Z"
   },
   {
    "duration": 0,
    "start_time": "2023-06-12T18:51:27.025Z"
   },
   {
    "duration": 0,
    "start_time": "2023-06-12T18:51:27.026Z"
   },
   {
    "duration": 13,
    "start_time": "2023-06-12T18:51:34.789Z"
   },
   {
    "duration": 5,
    "start_time": "2023-06-12T18:53:18.470Z"
   },
   {
    "duration": 564,
    "start_time": "2023-06-12T18:53:19.444Z"
   },
   {
    "duration": 13,
    "start_time": "2023-06-12T18:53:21.801Z"
   },
   {
    "duration": 16,
    "start_time": "2023-06-12T18:53:22.269Z"
   },
   {
    "duration": 10,
    "start_time": "2023-06-12T18:53:22.462Z"
   },
   {
    "duration": 10,
    "start_time": "2023-06-12T18:53:22.631Z"
   },
   {
    "duration": 16,
    "start_time": "2023-06-12T18:53:22.802Z"
   },
   {
    "duration": 12,
    "start_time": "2023-06-12T18:53:22.963Z"
   },
   {
    "duration": 13,
    "start_time": "2023-06-12T18:53:23.132Z"
   },
   {
    "duration": 10,
    "start_time": "2023-06-12T18:53:23.298Z"
   },
   {
    "duration": 13,
    "start_time": "2023-06-12T18:53:23.637Z"
   },
   {
    "duration": 8,
    "start_time": "2023-06-12T18:53:24.723Z"
   },
   {
    "duration": 12,
    "start_time": "2023-06-12T18:53:25.093Z"
   },
   {
    "duration": 7,
    "start_time": "2023-06-12T18:53:25.303Z"
   },
   {
    "duration": 17,
    "start_time": "2023-06-12T18:53:25.684Z"
   },
   {
    "duration": 18,
    "start_time": "2023-06-12T18:53:27.351Z"
   },
   {
    "duration": 21,
    "start_time": "2023-06-12T18:53:27.863Z"
   },
   {
    "duration": 13,
    "start_time": "2023-06-12T18:53:28.786Z"
   },
   {
    "duration": 5,
    "start_time": "2023-06-12T18:53:29.792Z"
   },
   {
    "duration": 5,
    "start_time": "2023-06-12T18:53:30.673Z"
   },
   {
    "duration": 8,
    "start_time": "2023-06-12T18:53:31.111Z"
   },
   {
    "duration": 146,
    "start_time": "2023-06-12T18:53:34.512Z"
   },
   {
    "duration": 38,
    "start_time": "2023-06-12T18:53:35.887Z"
   },
   {
    "duration": 150,
    "start_time": "2023-06-12T18:53:37.140Z"
   },
   {
    "duration": 35,
    "start_time": "2023-06-12T18:53:38.017Z"
   },
   {
    "duration": 183,
    "start_time": "2023-06-12T18:53:40.453Z"
   },
   {
    "duration": 38,
    "start_time": "2023-06-12T18:53:41.436Z"
   },
   {
    "duration": 189,
    "start_time": "2023-06-12T18:53:44.120Z"
   },
   {
    "duration": 64,
    "start_time": "2023-06-12T18:53:45.253Z"
   },
   {
    "duration": 377,
    "start_time": "2023-06-12T18:53:48.525Z"
   },
   {
    "duration": 20,
    "start_time": "2023-06-12T18:53:52.313Z"
   },
   {
    "duration": 183,
    "start_time": "2023-06-12T18:53:53.033Z"
   },
   {
    "duration": 151,
    "start_time": "2023-06-12T18:53:54.360Z"
   },
   {
    "duration": 20,
    "start_time": "2023-06-12T18:53:57.489Z"
   },
   {
    "duration": 6,
    "start_time": "2023-06-12T18:54:02.859Z"
   },
   {
    "duration": 2,
    "start_time": "2023-06-12T18:54:04.063Z"
   },
   {
    "duration": 7,
    "start_time": "2023-06-12T18:54:04.552Z"
   },
   {
    "duration": 4,
    "start_time": "2023-06-12T18:54:05.042Z"
   },
   {
    "duration": 5,
    "start_time": "2023-06-12T18:54:06.003Z"
   },
   {
    "duration": 8,
    "start_time": "2023-06-12T18:54:09.340Z"
   },
   {
    "duration": 3,
    "start_time": "2023-06-12T18:54:11.710Z"
   },
   {
    "duration": 10,
    "start_time": "2023-06-12T18:54:13.184Z"
   },
   {
    "duration": 15,
    "start_time": "2023-06-12T18:54:13.847Z"
   },
   {
    "duration": 13,
    "start_time": "2023-06-12T18:54:19.928Z"
   },
   {
    "duration": 2421,
    "start_time": "2023-06-13T07:40:07.277Z"
   },
   {
    "duration": 830,
    "start_time": "2023-06-13T07:40:09.700Z"
   },
   {
    "duration": 26,
    "start_time": "2023-06-13T07:40:10.533Z"
   },
   {
    "duration": 143,
    "start_time": "2023-06-13T07:40:10.563Z"
   },
   {
    "duration": 100,
    "start_time": "2023-06-13T07:40:10.708Z"
   },
   {
    "duration": 24,
    "start_time": "2023-06-13T07:40:10.810Z"
   },
   {
    "duration": 80,
    "start_time": "2023-06-13T07:40:10.836Z"
   },
   {
    "duration": 74,
    "start_time": "2023-06-13T07:40:10.917Z"
   },
   {
    "duration": 43,
    "start_time": "2023-06-13T07:40:10.993Z"
   },
   {
    "duration": 65,
    "start_time": "2023-06-13T07:40:11.039Z"
   },
   {
    "duration": 87,
    "start_time": "2023-06-13T07:40:11.106Z"
   },
   {
    "duration": 30,
    "start_time": "2023-06-13T07:40:11.195Z"
   },
   {
    "duration": 76,
    "start_time": "2023-06-13T07:40:11.227Z"
   },
   {
    "duration": 16,
    "start_time": "2023-06-13T07:40:11.307Z"
   },
   {
    "duration": 114,
    "start_time": "2023-06-13T07:40:11.325Z"
   },
   {
    "duration": 79,
    "start_time": "2023-06-13T07:40:11.441Z"
   },
   {
    "duration": 37,
    "start_time": "2023-06-13T07:40:11.522Z"
   },
   {
    "duration": 35,
    "start_time": "2023-06-13T07:40:11.566Z"
   },
   {
    "duration": 12,
    "start_time": "2023-06-13T07:40:11.603Z"
   },
   {
    "duration": 44,
    "start_time": "2023-06-13T07:40:11.616Z"
   },
   {
    "duration": 30,
    "start_time": "2023-06-13T07:40:11.668Z"
   },
   {
    "duration": 240,
    "start_time": "2023-06-13T07:40:11.700Z"
   },
   {
    "duration": 59,
    "start_time": "2023-06-13T07:40:11.942Z"
   },
   {
    "duration": 189,
    "start_time": "2023-06-13T07:40:12.002Z"
   },
   {
    "duration": 42,
    "start_time": "2023-06-13T07:40:12.193Z"
   },
   {
    "duration": 230,
    "start_time": "2023-06-13T07:40:12.237Z"
   },
   {
    "duration": 68,
    "start_time": "2023-06-13T07:40:12.469Z"
   },
   {
    "duration": 351,
    "start_time": "2023-06-13T07:40:12.539Z"
   },
   {
    "duration": 74,
    "start_time": "2023-06-13T07:40:12.893Z"
   },
   {
    "duration": 398,
    "start_time": "2023-06-13T07:40:12.969Z"
   },
   {
    "duration": 33,
    "start_time": "2023-06-13T07:40:13.369Z"
   },
   {
    "duration": 249,
    "start_time": "2023-06-13T07:40:13.404Z"
   },
   {
    "duration": 236,
    "start_time": "2023-06-13T07:40:13.657Z"
   },
   {
    "duration": 2741,
    "start_time": "2023-06-13T07:40:13.896Z"
   },
   {
    "duration": 33,
    "start_time": "2023-06-13T07:40:16.645Z"
   },
   {
    "duration": 30,
    "start_time": "2023-06-13T07:40:16.682Z"
   },
   {
    "duration": 10,
    "start_time": "2023-06-13T07:40:16.714Z"
   },
   {
    "duration": 19,
    "start_time": "2023-06-13T07:40:16.725Z"
   },
   {
    "duration": 57,
    "start_time": "2023-06-13T07:40:16.746Z"
   },
   {
    "duration": 17,
    "start_time": "2023-06-13T07:40:16.805Z"
   },
   {
    "duration": 66,
    "start_time": "2023-06-13T07:40:16.827Z"
   },
   {
    "duration": 10,
    "start_time": "2023-06-13T07:40:16.895Z"
   },
   {
    "duration": 19,
    "start_time": "2023-06-13T07:40:16.906Z"
   },
   {
    "duration": 169,
    "start_time": "2023-06-13T07:40:16.927Z"
   },
   {
    "duration": 0,
    "start_time": "2023-06-13T07:40:17.098Z"
   },
   {
    "duration": 0,
    "start_time": "2023-06-13T07:40:17.100Z"
   },
   {
    "duration": 0,
    "start_time": "2023-06-13T07:40:17.101Z"
   },
   {
    "duration": 0,
    "start_time": "2023-06-13T07:40:17.103Z"
   },
   {
    "duration": 0,
    "start_time": "2023-06-13T07:40:17.104Z"
   },
   {
    "duration": 0,
    "start_time": "2023-06-13T07:40:17.105Z"
   },
   {
    "duration": 0,
    "start_time": "2023-06-13T07:40:17.107Z"
   },
   {
    "duration": 0,
    "start_time": "2023-06-13T07:40:17.108Z"
   },
   {
    "duration": 0,
    "start_time": "2023-06-13T07:40:17.109Z"
   },
   {
    "duration": 0,
    "start_time": "2023-06-13T07:40:17.111Z"
   },
   {
    "duration": 0,
    "start_time": "2023-06-13T07:40:17.112Z"
   },
   {
    "duration": 0,
    "start_time": "2023-06-13T07:40:17.113Z"
   },
   {
    "duration": 0,
    "start_time": "2023-06-13T07:40:17.114Z"
   },
   {
    "duration": 0,
    "start_time": "2023-06-13T07:40:17.116Z"
   },
   {
    "duration": 0,
    "start_time": "2023-06-13T07:40:17.146Z"
   },
   {
    "duration": 12907,
    "start_time": "2023-06-13T07:41:42.277Z"
   },
   {
    "duration": 2080,
    "start_time": "2023-06-13T07:41:55.187Z"
   },
   {
    "duration": 717,
    "start_time": "2023-06-13T07:41:57.279Z"
   },
   {
    "duration": 14,
    "start_time": "2023-06-13T07:41:57.998Z"
   },
   {
    "duration": 23,
    "start_time": "2023-06-13T07:41:58.014Z"
   },
   {
    "duration": 20,
    "start_time": "2023-06-13T07:41:58.039Z"
   },
   {
    "duration": 33,
    "start_time": "2023-06-13T07:41:58.064Z"
   },
   {
    "duration": 15,
    "start_time": "2023-06-13T07:41:58.099Z"
   },
   {
    "duration": 14,
    "start_time": "2023-06-13T07:41:58.116Z"
   },
   {
    "duration": 18,
    "start_time": "2023-06-13T07:41:58.132Z"
   },
   {
    "duration": 40,
    "start_time": "2023-06-13T07:41:58.155Z"
   },
   {
    "duration": 34,
    "start_time": "2023-06-13T07:41:58.197Z"
   },
   {
    "duration": 10,
    "start_time": "2023-06-13T07:41:58.233Z"
   },
   {
    "duration": 43,
    "start_time": "2023-06-13T07:41:58.246Z"
   },
   {
    "duration": 24,
    "start_time": "2023-06-13T07:41:58.291Z"
   },
   {
    "duration": 47,
    "start_time": "2023-06-13T07:41:58.317Z"
   },
   {
    "duration": 34,
    "start_time": "2023-06-13T07:41:58.368Z"
   },
   {
    "duration": 30,
    "start_time": "2023-06-13T07:41:58.404Z"
   },
   {
    "duration": 16,
    "start_time": "2023-06-13T07:41:58.436Z"
   },
   {
    "duration": 40,
    "start_time": "2023-06-13T07:41:58.457Z"
   },
   {
    "duration": 20,
    "start_time": "2023-06-13T07:41:58.499Z"
   },
   {
    "duration": 17,
    "start_time": "2023-06-13T07:41:58.521Z"
   },
   {
    "duration": 201,
    "start_time": "2023-06-13T07:41:58.540Z"
   },
   {
    "duration": 54,
    "start_time": "2023-06-13T07:41:58.745Z"
   },
   {
    "duration": 169,
    "start_time": "2023-06-13T07:41:58.801Z"
   },
   {
    "duration": 42,
    "start_time": "2023-06-13T07:41:58.972Z"
   },
   {
    "duration": 186,
    "start_time": "2023-06-13T07:41:59.016Z"
   },
   {
    "duration": 64,
    "start_time": "2023-06-13T07:41:59.206Z"
   },
   {
    "duration": 221,
    "start_time": "2023-06-13T07:41:59.279Z"
   },
   {
    "duration": 74,
    "start_time": "2023-06-13T07:41:59.503Z"
   },
   {
    "duration": 409,
    "start_time": "2023-06-13T07:41:59.584Z"
   },
   {
    "duration": 22,
    "start_time": "2023-06-13T07:41:59.995Z"
   },
   {
    "duration": 272,
    "start_time": "2023-06-13T07:42:00.018Z"
   },
   {
    "duration": 203,
    "start_time": "2023-06-13T07:42:00.292Z"
   },
   {
    "duration": 2697,
    "start_time": "2023-06-13T07:42:00.497Z"
   },
   {
    "duration": 19,
    "start_time": "2023-06-13T07:42:03.197Z"
   },
   {
    "duration": 73,
    "start_time": "2023-06-13T07:42:03.218Z"
   },
   {
    "duration": 12,
    "start_time": "2023-06-13T07:42:03.292Z"
   },
   {
    "duration": 8,
    "start_time": "2023-06-13T07:42:03.306Z"
   },
   {
    "duration": 6,
    "start_time": "2023-06-13T07:42:03.316Z"
   },
   {
    "duration": 10,
    "start_time": "2023-06-13T07:42:03.325Z"
   },
   {
    "duration": 15,
    "start_time": "2023-06-13T07:42:03.337Z"
   },
   {
    "duration": 40,
    "start_time": "2023-06-13T07:42:03.356Z"
   },
   {
    "duration": 20,
    "start_time": "2023-06-13T07:42:03.398Z"
   },
   {
    "duration": 15,
    "start_time": "2023-06-13T07:42:03.420Z"
   },
   {
    "duration": 106,
    "start_time": "2023-06-13T07:42:03.437Z"
   },
   {
    "duration": 58,
    "start_time": "2023-06-13T07:42:03.545Z"
   },
   {
    "duration": 3,
    "start_time": "2023-06-13T07:42:03.605Z"
   },
   {
    "duration": 12,
    "start_time": "2023-06-13T07:42:03.610Z"
   },
   {
    "duration": 8,
    "start_time": "2023-06-13T07:42:03.624Z"
   },
   {
    "duration": 37,
    "start_time": "2023-06-13T07:42:03.634Z"
   },
   {
    "duration": 38,
    "start_time": "2023-06-13T07:42:03.675Z"
   },
   {
    "duration": 106,
    "start_time": "2023-06-13T07:42:03.714Z"
   },
   {
    "duration": 4,
    "start_time": "2023-06-13T07:42:03.821Z"
   },
   {
    "duration": 358499,
    "start_time": "2023-06-13T07:42:03.827Z"
   },
   {
    "duration": 201305,
    "start_time": "2023-06-13T07:48:02.328Z"
   },
   {
    "duration": 45,
    "start_time": "2023-06-13T07:51:23.634Z"
   },
   {
    "duration": 147,
    "start_time": "2023-06-13T07:51:23.680Z"
   },
   {
    "duration": 361,
    "start_time": "2023-06-13T07:51:23.829Z"
   },
   {
    "duration": 37,
    "start_time": "2023-06-13T07:51:24.191Z"
   }
  ],
  "kernelspec": {
   "display_name": "Python 3 (ipykernel)",
   "language": "python",
   "name": "python3"
  },
  "language_info": {
   "codemirror_mode": {
    "name": "ipython",
    "version": 3
   },
   "file_extension": ".py",
   "mimetype": "text/x-python",
   "name": "python",
   "nbconvert_exporter": "python",
   "pygments_lexer": "ipython3",
   "version": "3.11.4"
  },
  "toc": {
   "base_numbering": 1,
   "nav_menu": {},
   "number_sections": true,
   "sideBar": true,
   "skip_h1_title": true,
   "title_cell": "Table of Contents",
   "title_sidebar": "Contents",
   "toc_cell": false,
   "toc_position": {},
   "toc_section_display": true,
   "toc_window_display": false
  },
  "varInspector": {
   "cols": {
    "lenName": 16,
    "lenType": 16,
    "lenVar": 40
   },
   "kernels_config": {
    "python": {
     "delete_cmd_postfix": "",
     "delete_cmd_prefix": "del ",
     "library": "var_list.py",
     "varRefreshCmd": "print(var_dic_list())"
    },
    "r": {
     "delete_cmd_postfix": ") ",
     "delete_cmd_prefix": "rm(",
     "library": "var_list.r",
     "varRefreshCmd": "cat(var_dic_list()) "
    }
   },
   "types_to_exclude": [
    "module",
    "function",
    "builtin_function_or_method",
    "instance",
    "_Feature"
   ],
   "window_display": false
  }
 },
 "nbformat": 4,
 "nbformat_minor": 5
}
